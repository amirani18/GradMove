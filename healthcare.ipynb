{
 "cells": [
  {
   "cell_type": "code",
   "execution_count": 4,
   "id": "9e783967-aa19-400d-b0de-d9c4b33fb019",
   "metadata": {
    "tags": []
   },
   "outputs": [],
   "source": [
    "import pandas as pd\n",
    "import numpy as np"
   ]
  },
  {
   "cell_type": "code",
   "execution_count": null,
   "id": "a81f18b5-e27c-426c-b185-25d73757974d",
   "metadata": {
    "tags": []
   },
   "outputs": [],
   "source": [
    "df = pd.read_csv('abortion.csv')\n",
    "df.head(n=10)\n",
    "df.columns\n"
   ]
  },
  {
   "cell_type": "code",
   "execution_count": null,
   "id": "9507487f-d9d1-4b41-98f0-c45806905ff5",
   "metadata": {},
   "outputs": [],
   "source": [
    "cost"
   ]
  },
  {
   "cell_type": "code",
   "execution_count": null,
   "id": "140bf832-7a68-4612-8820-10d5b8a90521",
   "metadata": {
    "tags": []
   },
   "outputs": [],
   "source": [
    "df.columns"
   ]
  },
  {
   "cell_type": "code",
   "execution_count": 129,
   "id": "ce59b5ec-1ff1-420b-afb7-279de9317f64",
   "metadata": {
    "tags": []
   },
   "outputs": [
    {
     "data": {
      "text/plain": [
       "Index(['State', 'Publicly Funded Births (%)',\n",
       "       '(%) Counties without Abortion Provider', '(%) Counties without Clinic',\n",
       "       'Title X Center Need Met', 'Publicly Funded Centers Need Met',\n",
       "       'No of Abortion Clinics', 'Births Averted by Publicly Funded Centers',\n",
       "       'Abortion Costs Saved at Publicly Funded Family Planning Centers',\n",
       "       'Abortion Costs Saved at Title X Funded Centers'],\n",
       "      dtype='object')"
      ]
     },
     "execution_count": 129,
     "metadata": {},
     "output_type": "execute_result"
    }
   ],
   "source": [
    "df_new =  df[['U.S. State', '% of births that were publicly funded, 2010',\n",
    "              '% of counties without a known abortion provider, 2014', \n",
    "              '% of counties without a known clinic, 2020 [4]',\n",
    "             '% of likely need met by Title X-funded centers, 2016',\n",
    "             '% of likely need met by publicly funded centers, 2016',\n",
    "             'No. of abortion clinics, 2020 [4]', 'No. of births averted by publicly funded centers, 2016',\n",
    "             'Annual abortion costs saved from contraceptive services at publicly funded family planning centers (in 000s of dollars), 2010',\n",
    "             'Annual abortion costs saved from contraceptive services at Title X funded centers (in 000s of dollars), 2010'\n",
    "             ]]\n",
    "\n",
    "#need to update df_new\n",
    "\n",
    "df_new = df_new.rename(columns={\n",
    "    'U.S. State': 'State',\n",
    "    '% of births that were publicly funded, 2010': 'Publicly Funded Births (%)',\n",
    "    '% of counties without a known abortion provider, 2014': '(%) Counties without Abortion Provider',\n",
    "    '% of counties without a known clinic, 2020 [4]': '(%) Counties without Clinic',\n",
    "    '% of likely need met by Title X-funded centers, 2016': 'Title X Center Need Met',\n",
    "    '% of likely need met by publicly funded centers, 2016': 'Publicly Funded Centers Need Met',\n",
    "    'No. of abortion clinics, 2020 [4]': 'No of Abortion Clinics',\n",
    "    'No. of births averted by publicly funded centers, 2016': 'Births Averted by Publicly Funded Centers',\n",
    "    'Annual abortion costs saved from contraceptive services at publicly funded family planning centers (in 000s of dollars), 2010': \n",
    "    'Abortion Costs Saved at Publicly Funded Family Planning Centers',\n",
    "    'Annual abortion costs saved from contraceptive services at Title X funded centers (in 000s of dollars), 2010':\n",
    "    'Abortion Costs Saved at Title X Funded Centers',\n",
    "})\n",
    "\n",
    "df_new.head(n=10)\n",
    "df_new.columns"
   ]
  },
  {
   "cell_type": "code",
   "execution_count": 130,
   "id": "84200cbb-f37c-4ebd-b212-f51665976c0c",
   "metadata": {
    "tags": []
   },
   "outputs": [],
   "source": [
    "\n",
    "access = df_new[['State', '(%) Counties without Abortion Provider', '(%) Counties without Clinic', 'No of Abortion Clinics']]\n"
   ]
  },
  {
   "cell_type": "code",
   "execution_count": 131,
   "id": "9c1f1c76-f656-495a-9411-8c2a6b732dfc",
   "metadata": {
    "tags": []
   },
   "outputs": [
    {
     "name": "stderr",
     "output_type": "stream",
     "text": [
      "/var/folders/jy/c8rrvktd49g7xb48wfjh3ych0000gn/T/ipykernel_79108/649165329.py:5: SettingWithCopyWarning:\n",
      "\n",
      "\n",
      "A value is trying to be set on a copy of a slice from a DataFrame.\n",
      "Try using .loc[row_indexer,col_indexer] = value instead\n",
      "\n",
      "See the caveats in the documentation: https://pandas.pydata.org/pandas-docs/stable/user_guide/indexing.html#returning-a-view-versus-a-copy\n",
      "\n"
     ]
    }
   ],
   "source": [
    "county_counts = {'California': 58, 'Georgia': 159, 'Illinois': 102, 'Washington': 39,  'Colorado': 64, 'Kansas': 105, \n",
    "                 'New York': 62, 'Texas': 254, 'Pennsylvania': 67, 'Massachusetts': 14}\n",
    "\n",
    "# Map county counts to states\n",
    "access['County Count Per State'] = df_new['State'].map(county_counts)"
   ]
  },
  {
   "cell_type": "code",
   "execution_count": 132,
   "id": "6c035b35-309e-498e-8953-57e7eb5db6de",
   "metadata": {
    "tags": []
   },
   "outputs": [
    {
     "data": {
      "text/html": [
       "<div>\n",
       "<style scoped>\n",
       "    .dataframe tbody tr th:only-of-type {\n",
       "        vertical-align: middle;\n",
       "    }\n",
       "\n",
       "    .dataframe tbody tr th {\n",
       "        vertical-align: top;\n",
       "    }\n",
       "\n",
       "    .dataframe thead th {\n",
       "        text-align: right;\n",
       "    }\n",
       "</style>\n",
       "<table border=\"1\" class=\"dataframe\">\n",
       "  <thead>\n",
       "    <tr style=\"text-align: right;\">\n",
       "      <th></th>\n",
       "      <th>State</th>\n",
       "      <th>(%) Counties without Abortion Provider</th>\n",
       "      <th>(%) Counties without Clinic</th>\n",
       "      <th>No of Abortion Clinics</th>\n",
       "      <th>County Count Per State</th>\n",
       "    </tr>\n",
       "  </thead>\n",
       "  <tbody>\n",
       "    <tr>\n",
       "      <th>0</th>\n",
       "      <td>California</td>\n",
       "      <td>24</td>\n",
       "      <td>38</td>\n",
       "      <td>173</td>\n",
       "      <td>58.0</td>\n",
       "    </tr>\n",
       "    <tr>\n",
       "      <th>1</th>\n",
       "      <td>Georgia</td>\n",
       "      <td>94</td>\n",
       "      <td>95</td>\n",
       "      <td>14</td>\n",
       "      <td>159.0</td>\n",
       "    </tr>\n",
       "    <tr>\n",
       "      <th>2</th>\n",
       "      <td>Illinois</td>\n",
       "      <td>91</td>\n",
       "      <td>89</td>\n",
       "      <td>30</td>\n",
       "      <td>102.0</td>\n",
       "    </tr>\n",
       "    <tr>\n",
       "      <th>3</th>\n",
       "      <td>Washington</td>\n",
       "      <td>94</td>\n",
       "      <td>56</td>\n",
       "      <td>37</td>\n",
       "      <td>39.0</td>\n",
       "    </tr>\n",
       "    <tr>\n",
       "      <th>4</th>\n",
       "      <td>Colorado</td>\n",
       "      <td>77</td>\n",
       "      <td>77</td>\n",
       "      <td>23</td>\n",
       "      <td>64.0</td>\n",
       "    </tr>\n",
       "    <tr>\n",
       "      <th>5</th>\n",
       "      <td>Kansas</td>\n",
       "      <td>97</td>\n",
       "      <td>98</td>\n",
       "      <td>4</td>\n",
       "      <td>105.0</td>\n",
       "    </tr>\n",
       "    <tr>\n",
       "      <th>6</th>\n",
       "      <td>New York</td>\n",
       "      <td>37</td>\n",
       "      <td>37</td>\n",
       "      <td>104</td>\n",
       "      <td>62.0</td>\n",
       "    </tr>\n",
       "    <tr>\n",
       "      <th>7</th>\n",
       "      <td>Texas</td>\n",
       "      <td>95</td>\n",
       "      <td>96</td>\n",
       "      <td>24</td>\n",
       "      <td>254.0</td>\n",
       "    </tr>\n",
       "    <tr>\n",
       "      <th>8</th>\n",
       "      <td>Pennsylvania</td>\n",
       "      <td>81</td>\n",
       "      <td>82</td>\n",
       "      <td>17</td>\n",
       "      <td>67.0</td>\n",
       "    </tr>\n",
       "    <tr>\n",
       "      <th>9</th>\n",
       "      <td>Massachusetts</td>\n",
       "      <td>21</td>\n",
       "      <td>50</td>\n",
       "      <td>17</td>\n",
       "      <td>14.0</td>\n",
       "    </tr>\n",
       "  </tbody>\n",
       "</table>\n",
       "</div>"
      ],
      "text/plain": [
       "           State (%) Counties without Abortion Provider  \\\n",
       "0     California                                     24   \n",
       "1        Georgia                                     94   \n",
       "2       Illinois                                     91   \n",
       "3     Washington                                     94   \n",
       "4       Colorado                                     77   \n",
       "5         Kansas                                     97   \n",
       "6       New York                                     37   \n",
       "7          Texas                                     95   \n",
       "8   Pennsylvania                                     81   \n",
       "9  Massachusetts                                     21   \n",
       "\n",
       "  (%) Counties without Clinic No of Abortion Clinics  County Count Per State  \n",
       "0                          38                    173                    58.0  \n",
       "1                          95                     14                   159.0  \n",
       "2                          89                     30                   102.0  \n",
       "3                          56                     37                    39.0  \n",
       "4                          77                     23                    64.0  \n",
       "5                          98                      4                   105.0  \n",
       "6                          37                    104                    62.0  \n",
       "7                          96                     24                   254.0  \n",
       "8                          82                     17                    67.0  \n",
       "9                          50                     17                    14.0  "
      ]
     },
     "execution_count": 132,
     "metadata": {},
     "output_type": "execute_result"
    }
   ],
   "source": [
    "access.head(n=10)"
   ]
  },
  {
   "cell_type": "code",
   "execution_count": 60,
   "id": "422694ef-fd88-4f2d-8198-34baf874b364",
   "metadata": {
    "tags": []
   },
   "outputs": [
    {
     "data": {
      "text/plain": [
       "State                                      object\n",
       "(%) Counties without Abortion Provider     object\n",
       "(%) Counties without Clinic               float64\n",
       "No of Abortion Clinics                     object\n",
       "County Count Per State                    float64\n",
       "dtype: object"
      ]
     },
     "execution_count": 60,
     "metadata": {},
     "output_type": "execute_result"
    }
   ],
   "source": [
    "access.dtypes"
   ]
  },
  {
   "cell_type": "code",
   "execution_count": null,
   "id": "0d9a4e7e-5acd-47a1-bbb7-11d740654f72",
   "metadata": {
    "tags": []
   },
   "outputs": [],
   "source": [
    "# To convert multiple columns to int\n",
    "access['(%) Counties without Abortion Provider' ] = access['(%) Counties without Abortion Provider'].str.replace(r'[^\\d.]+', '', regex=True)\n",
    "\n",
    "access['(%) Counties without Abortion Provider']  = pd.to_numeric(access['(%) Counties without Abortion Provider'] , errors='coerce')"
   ]
  },
  {
   "cell_type": "code",
   "execution_count": null,
   "id": "95425afc-b6b2-48fa-931b-ac64352f0a3b",
   "metadata": {
    "tags": []
   },
   "outputs": [],
   "source": [
    "access = access.drop([10, 11, 12])"
   ]
  },
  {
   "cell_type": "code",
   "execution_count": 72,
   "id": "b8209a32-52dc-4581-ac63-2790412339c0",
   "metadata": {
    "tags": []
   },
   "outputs": [],
   "source": [
    "access = access.drop([10])"
   ]
  },
  {
   "cell_type": "code",
   "execution_count": 73,
   "id": "38d731b1-bcb6-4e48-85e2-5975347c89d2",
   "metadata": {
    "tags": []
   },
   "outputs": [
    {
     "data": {
      "text/html": [
       "<div>\n",
       "<style scoped>\n",
       "    .dataframe tbody tr th:only-of-type {\n",
       "        vertical-align: middle;\n",
       "    }\n",
       "\n",
       "    .dataframe tbody tr th {\n",
       "        vertical-align: top;\n",
       "    }\n",
       "\n",
       "    .dataframe thead th {\n",
       "        text-align: right;\n",
       "    }\n",
       "</style>\n",
       "<table border=\"1\" class=\"dataframe\">\n",
       "  <thead>\n",
       "    <tr style=\"text-align: right;\">\n",
       "      <th></th>\n",
       "      <th>State</th>\n",
       "      <th>(%) Counties without Abortion Provider</th>\n",
       "      <th>(%) Counties without Clinic</th>\n",
       "      <th>No of Abortion Clinics</th>\n",
       "      <th>County Count Per State</th>\n",
       "    </tr>\n",
       "  </thead>\n",
       "  <tbody>\n",
       "    <tr>\n",
       "      <th>0</th>\n",
       "      <td>California</td>\n",
       "      <td>24.0</td>\n",
       "      <td>38.0</td>\n",
       "      <td>173.0</td>\n",
       "      <td>58.0</td>\n",
       "    </tr>\n",
       "    <tr>\n",
       "      <th>1</th>\n",
       "      <td>Georgia</td>\n",
       "      <td>94.0</td>\n",
       "      <td>95.0</td>\n",
       "      <td>14.0</td>\n",
       "      <td>159.0</td>\n",
       "    </tr>\n",
       "    <tr>\n",
       "      <th>2</th>\n",
       "      <td>Illinois</td>\n",
       "      <td>91.0</td>\n",
       "      <td>89.0</td>\n",
       "      <td>30.0</td>\n",
       "      <td>102.0</td>\n",
       "    </tr>\n",
       "    <tr>\n",
       "      <th>3</th>\n",
       "      <td>Washington</td>\n",
       "      <td>94.0</td>\n",
       "      <td>56.0</td>\n",
       "      <td>37.0</td>\n",
       "      <td>39.0</td>\n",
       "    </tr>\n",
       "    <tr>\n",
       "      <th>4</th>\n",
       "      <td>Colorado</td>\n",
       "      <td>77.0</td>\n",
       "      <td>77.0</td>\n",
       "      <td>23.0</td>\n",
       "      <td>64.0</td>\n",
       "    </tr>\n",
       "    <tr>\n",
       "      <th>5</th>\n",
       "      <td>Kansas</td>\n",
       "      <td>97.0</td>\n",
       "      <td>98.0</td>\n",
       "      <td>4.0</td>\n",
       "      <td>105.0</td>\n",
       "    </tr>\n",
       "    <tr>\n",
       "      <th>6</th>\n",
       "      <td>New York</td>\n",
       "      <td>37.0</td>\n",
       "      <td>37.0</td>\n",
       "      <td>104.0</td>\n",
       "      <td>62.0</td>\n",
       "    </tr>\n",
       "    <tr>\n",
       "      <th>7</th>\n",
       "      <td>Texas</td>\n",
       "      <td>95.0</td>\n",
       "      <td>96.0</td>\n",
       "      <td>24.0</td>\n",
       "      <td>254.0</td>\n",
       "    </tr>\n",
       "    <tr>\n",
       "      <th>8</th>\n",
       "      <td>Pennsylvania</td>\n",
       "      <td>81.0</td>\n",
       "      <td>82.0</td>\n",
       "      <td>17.0</td>\n",
       "      <td>67.0</td>\n",
       "    </tr>\n",
       "    <tr>\n",
       "      <th>9</th>\n",
       "      <td>Massachusetts</td>\n",
       "      <td>21.0</td>\n",
       "      <td>50.0</td>\n",
       "      <td>17.0</td>\n",
       "      <td>14.0</td>\n",
       "    </tr>\n",
       "  </tbody>\n",
       "</table>\n",
       "</div>"
      ],
      "text/plain": [
       "           State  (%) Counties without Abortion Provider  \\\n",
       "0     California                                    24.0   \n",
       "1        Georgia                                    94.0   \n",
       "2       Illinois                                    91.0   \n",
       "3     Washington                                    94.0   \n",
       "4       Colorado                                    77.0   \n",
       "5         Kansas                                    97.0   \n",
       "6       New York                                    37.0   \n",
       "7          Texas                                    95.0   \n",
       "8   Pennsylvania                                    81.0   \n",
       "9  Massachusetts                                    21.0   \n",
       "\n",
       "   (%) Counties without Clinic  No of Abortion Clinics  County Count Per State  \n",
       "0                         38.0                   173.0                    58.0  \n",
       "1                         95.0                    14.0                   159.0  \n",
       "2                         89.0                    30.0                   102.0  \n",
       "3                         56.0                    37.0                    39.0  \n",
       "4                         77.0                    23.0                    64.0  \n",
       "5                         98.0                     4.0                   105.0  \n",
       "6                         37.0                   104.0                    62.0  \n",
       "7                         96.0                    24.0                   254.0  \n",
       "8                         82.0                    17.0                    67.0  \n",
       "9                         50.0                    17.0                    14.0  "
      ]
     },
     "execution_count": 73,
     "metadata": {},
     "output_type": "execute_result"
    }
   ],
   "source": [
    "access.head(n=12)"
   ]
  },
  {
   "cell_type": "code",
   "execution_count": null,
   "id": "37ca50f5-2aba-4eb0-a002-d63345781581",
   "metadata": {},
   "outputs": [],
   "source": []
  },
  {
   "cell_type": "code",
   "execution_count": 80,
   "id": "c7c99e95-d94c-4c64-a109-608ede0ac273",
   "metadata": {
    "tags": []
   },
   "outputs": [
    {
     "name": "stdout",
     "output_type": "stream",
     "text": [
      "71.8\n",
      "24.302720469573405\n"
     ]
    }
   ],
   "source": [
    "# baseline % of county without clinic to determine high/low access\n",
    "\n",
    "baseline = access['(%) Counties without Clinic'].mean()\n",
    "stdev = access['(%) Counties without Clinic'].std()\n",
    "\n",
    "print(baseline) #On average, the majority (71%) of counties in a state do not have a clinic.\n",
    "print(stdev) #On average, this differs by 24 %\n",
    "\n",
    "#Considering the mean is 71.8, avg access is 47-71, low access is 71-95, high access = <0-47\n",
    "#Shade background red based on low, yellow based on avg, and green based on high?"
   ]
  },
  {
   "cell_type": "code",
   "execution_count": 273,
   "id": "941fbece-548d-4128-90c0-180d6fa32481",
   "metadata": {
    "tags": []
   },
   "outputs": [
    {
     "name": "stdout",
     "output_type": "stream",
     "text": [
      "           State  (%) Counties without Abortion Provider  \\\n",
      "0     California                                      24   \n",
      "1        Georgia                                      94   \n",
      "2       Illinois                                      91   \n",
      "3     Washington                                      94   \n",
      "4       Colorado                                      77   \n",
      "5         Kansas                                      97   \n",
      "6       New York                                      37   \n",
      "7          Texas                                      95   \n",
      "8   Pennsylvania                                      81   \n",
      "9  Massachusetts                                      21   \n",
      "\n",
      "   (%) Counties without Clinic  No of Abortion Clinics  County Count Per State  \n",
      "0                           38                     173                    58.0  \n",
      "1                           95                      14                   159.0  \n",
      "2                           89                      30                   102.0  \n",
      "3                           56                      37                    39.0  \n",
      "4                           77                      23                    64.0  \n",
      "5                           98                       4                   105.0  \n",
      "6                           37                     104                    62.0  \n",
      "7                           96                      24                   254.0  \n",
      "8                           82                      17                    67.0  \n",
      "9                           50                      17                    14.0  \n"
     ]
    }
   ],
   "source": [
    "print(access)"
   ]
  },
  {
   "cell_type": "code",
   "execution_count": 291,
   "id": "2736f99a-bc1f-4aa1-a5d1-4060391dc35c",
   "metadata": {
    "tags": []
   },
   "outputs": [
    {
     "name": "stdout",
     "output_type": "stream",
     "text": [
      "The access level is ('Low', 'red') for a score of 98.\n"
     ]
    }
   ],
   "source": [
    "# Check if a score is within the high access range\n",
    "\n",
    "input_state = 'Kansas'\n",
    "\n",
    "def get_score_by_state(input_state):\n",
    "    # Check if the input_state is in the DataFrame\n",
    "    if input_state in access['State'].values:\n",
    "        \n",
    "        # Get the row from the DataFrame for the matching state\n",
    "        state_row = access[access['State'] == input_state]\n",
    "        # Extract the accessibility score for this state\n",
    "        return state_row['(%) Counties without Clinic'].iloc[0]\n",
    "    else:\n",
    "        return None\n",
    "\n",
    "\n",
    "# Get the score for the input state\n",
    "score = get_score_by_state(input_state)\n",
    "\n",
    "def categorize_access(score):\n",
    "    avg_access_range = (48, 72)\n",
    "    low_access_range = (72, max(access['(%) Counties without Clinic']))\n",
    "    high_access_range = (0, 47)\n",
    "    \n",
    "    if high_access_range[0] <= score <= high_access_range[1]:\n",
    "        return 'High', 'green'\n",
    "    elif avg_access_range[0] <= score <= avg_access_range[1]:\n",
    "        return 'Average', 'yellow'\n",
    "    elif low_access_range[0] <= score <= low_access_range[1]:\n",
    "        return 'Low', 'red'\n",
    "    else:\n",
    "        return 'Undefined', 'grey'\n",
    "\n",
    "access_level = categorize_access(score)\n",
    "print(f\"The access level is {access_level} for a score of {score}.\")"
   ]
  },
  {
   "cell_type": "code",
   "execution_count": 292,
   "id": "b51b8a1d-9b01-48ee-aa44-cf53720d11b2",
   "metadata": {
    "tags": []
   },
   "outputs": [
    {
     "data": {
      "application/vnd.plotly.v1+json": {
       "config": {
        "plotlyServerURL": "https://plot.ly"
       },
       "data": [
        {
         "gauge": {
          "axis": {
           "range": [
            null,
            100
           ]
          },
          "bar": {
           "color": "red"
          },
          "steps": [
           {
            "color": "lightgray",
            "range": [
             98,
             100
            ],
            "thickness": 0.5
           }
          ]
         },
         "mode": "gauge+number",
         "title": {
          "text": "Clinic Accessibility"
         },
         "type": "indicator",
         "value": 98
        }
       ],
       "layout": {
        "annotations": [
         {
          "align": "center",
          "font": {
           "size": 24
          },
          "showarrow": false,
          "text": "% of counties without abortion clinics",
          "x": 0,
          "xref": "paper",
          "y": -0.2,
          "yref": "paper"
         }
        ],
        "autosize": true,
        "template": {
         "data": {
          "bar": [
           {
            "error_x": {
             "color": "#2a3f5f"
            },
            "error_y": {
             "color": "#2a3f5f"
            },
            "marker": {
             "line": {
              "color": "#E5ECF6",
              "width": 0.5
             },
             "pattern": {
              "fillmode": "overlay",
              "size": 10,
              "solidity": 0.2
             }
            },
            "type": "bar"
           }
          ],
          "barpolar": [
           {
            "marker": {
             "line": {
              "color": "#E5ECF6",
              "width": 0.5
             },
             "pattern": {
              "fillmode": "overlay",
              "size": 10,
              "solidity": 0.2
             }
            },
            "type": "barpolar"
           }
          ],
          "carpet": [
           {
            "aaxis": {
             "endlinecolor": "#2a3f5f",
             "gridcolor": "white",
             "linecolor": "white",
             "minorgridcolor": "white",
             "startlinecolor": "#2a3f5f"
            },
            "baxis": {
             "endlinecolor": "#2a3f5f",
             "gridcolor": "white",
             "linecolor": "white",
             "minorgridcolor": "white",
             "startlinecolor": "#2a3f5f"
            },
            "type": "carpet"
           }
          ],
          "choropleth": [
           {
            "colorbar": {
             "outlinewidth": 0,
             "ticks": ""
            },
            "type": "choropleth"
           }
          ],
          "contour": [
           {
            "colorbar": {
             "outlinewidth": 0,
             "ticks": ""
            },
            "colorscale": [
             [
              0,
              "#0d0887"
             ],
             [
              0.1111111111111111,
              "#46039f"
             ],
             [
              0.2222222222222222,
              "#7201a8"
             ],
             [
              0.3333333333333333,
              "#9c179e"
             ],
             [
              0.4444444444444444,
              "#bd3786"
             ],
             [
              0.5555555555555556,
              "#d8576b"
             ],
             [
              0.6666666666666666,
              "#ed7953"
             ],
             [
              0.7777777777777778,
              "#fb9f3a"
             ],
             [
              0.8888888888888888,
              "#fdca26"
             ],
             [
              1,
              "#f0f921"
             ]
            ],
            "type": "contour"
           }
          ],
          "contourcarpet": [
           {
            "colorbar": {
             "outlinewidth": 0,
             "ticks": ""
            },
            "type": "contourcarpet"
           }
          ],
          "heatmap": [
           {
            "colorbar": {
             "outlinewidth": 0,
             "ticks": ""
            },
            "colorscale": [
             [
              0,
              "#0d0887"
             ],
             [
              0.1111111111111111,
              "#46039f"
             ],
             [
              0.2222222222222222,
              "#7201a8"
             ],
             [
              0.3333333333333333,
              "#9c179e"
             ],
             [
              0.4444444444444444,
              "#bd3786"
             ],
             [
              0.5555555555555556,
              "#d8576b"
             ],
             [
              0.6666666666666666,
              "#ed7953"
             ],
             [
              0.7777777777777778,
              "#fb9f3a"
             ],
             [
              0.8888888888888888,
              "#fdca26"
             ],
             [
              1,
              "#f0f921"
             ]
            ],
            "type": "heatmap"
           }
          ],
          "heatmapgl": [
           {
            "colorbar": {
             "outlinewidth": 0,
             "ticks": ""
            },
            "colorscale": [
             [
              0,
              "#0d0887"
             ],
             [
              0.1111111111111111,
              "#46039f"
             ],
             [
              0.2222222222222222,
              "#7201a8"
             ],
             [
              0.3333333333333333,
              "#9c179e"
             ],
             [
              0.4444444444444444,
              "#bd3786"
             ],
             [
              0.5555555555555556,
              "#d8576b"
             ],
             [
              0.6666666666666666,
              "#ed7953"
             ],
             [
              0.7777777777777778,
              "#fb9f3a"
             ],
             [
              0.8888888888888888,
              "#fdca26"
             ],
             [
              1,
              "#f0f921"
             ]
            ],
            "type": "heatmapgl"
           }
          ],
          "histogram": [
           {
            "marker": {
             "pattern": {
              "fillmode": "overlay",
              "size": 10,
              "solidity": 0.2
             }
            },
            "type": "histogram"
           }
          ],
          "histogram2d": [
           {
            "colorbar": {
             "outlinewidth": 0,
             "ticks": ""
            },
            "colorscale": [
             [
              0,
              "#0d0887"
             ],
             [
              0.1111111111111111,
              "#46039f"
             ],
             [
              0.2222222222222222,
              "#7201a8"
             ],
             [
              0.3333333333333333,
              "#9c179e"
             ],
             [
              0.4444444444444444,
              "#bd3786"
             ],
             [
              0.5555555555555556,
              "#d8576b"
             ],
             [
              0.6666666666666666,
              "#ed7953"
             ],
             [
              0.7777777777777778,
              "#fb9f3a"
             ],
             [
              0.8888888888888888,
              "#fdca26"
             ],
             [
              1,
              "#f0f921"
             ]
            ],
            "type": "histogram2d"
           }
          ],
          "histogram2dcontour": [
           {
            "colorbar": {
             "outlinewidth": 0,
             "ticks": ""
            },
            "colorscale": [
             [
              0,
              "#0d0887"
             ],
             [
              0.1111111111111111,
              "#46039f"
             ],
             [
              0.2222222222222222,
              "#7201a8"
             ],
             [
              0.3333333333333333,
              "#9c179e"
             ],
             [
              0.4444444444444444,
              "#bd3786"
             ],
             [
              0.5555555555555556,
              "#d8576b"
             ],
             [
              0.6666666666666666,
              "#ed7953"
             ],
             [
              0.7777777777777778,
              "#fb9f3a"
             ],
             [
              0.8888888888888888,
              "#fdca26"
             ],
             [
              1,
              "#f0f921"
             ]
            ],
            "type": "histogram2dcontour"
           }
          ],
          "mesh3d": [
           {
            "colorbar": {
             "outlinewidth": 0,
             "ticks": ""
            },
            "type": "mesh3d"
           }
          ],
          "parcoords": [
           {
            "line": {
             "colorbar": {
              "outlinewidth": 0,
              "ticks": ""
             }
            },
            "type": "parcoords"
           }
          ],
          "pie": [
           {
            "automargin": true,
            "type": "pie"
           }
          ],
          "scatter": [
           {
            "fillpattern": {
             "fillmode": "overlay",
             "size": 10,
             "solidity": 0.2
            },
            "type": "scatter"
           }
          ],
          "scatter3d": [
           {
            "line": {
             "colorbar": {
              "outlinewidth": 0,
              "ticks": ""
             }
            },
            "marker": {
             "colorbar": {
              "outlinewidth": 0,
              "ticks": ""
             }
            },
            "type": "scatter3d"
           }
          ],
          "scattercarpet": [
           {
            "marker": {
             "colorbar": {
              "outlinewidth": 0,
              "ticks": ""
             }
            },
            "type": "scattercarpet"
           }
          ],
          "scattergeo": [
           {
            "marker": {
             "colorbar": {
              "outlinewidth": 0,
              "ticks": ""
             }
            },
            "type": "scattergeo"
           }
          ],
          "scattergl": [
           {
            "marker": {
             "colorbar": {
              "outlinewidth": 0,
              "ticks": ""
             }
            },
            "type": "scattergl"
           }
          ],
          "scattermapbox": [
           {
            "marker": {
             "colorbar": {
              "outlinewidth": 0,
              "ticks": ""
             }
            },
            "type": "scattermapbox"
           }
          ],
          "scatterpolar": [
           {
            "marker": {
             "colorbar": {
              "outlinewidth": 0,
              "ticks": ""
             }
            },
            "type": "scatterpolar"
           }
          ],
          "scatterpolargl": [
           {
            "marker": {
             "colorbar": {
              "outlinewidth": 0,
              "ticks": ""
             }
            },
            "type": "scatterpolargl"
           }
          ],
          "scatterternary": [
           {
            "marker": {
             "colorbar": {
              "outlinewidth": 0,
              "ticks": ""
             }
            },
            "type": "scatterternary"
           }
          ],
          "surface": [
           {
            "colorbar": {
             "outlinewidth": 0,
             "ticks": ""
            },
            "colorscale": [
             [
              0,
              "#0d0887"
             ],
             [
              0.1111111111111111,
              "#46039f"
             ],
             [
              0.2222222222222222,
              "#7201a8"
             ],
             [
              0.3333333333333333,
              "#9c179e"
             ],
             [
              0.4444444444444444,
              "#bd3786"
             ],
             [
              0.5555555555555556,
              "#d8576b"
             ],
             [
              0.6666666666666666,
              "#ed7953"
             ],
             [
              0.7777777777777778,
              "#fb9f3a"
             ],
             [
              0.8888888888888888,
              "#fdca26"
             ],
             [
              1,
              "#f0f921"
             ]
            ],
            "type": "surface"
           }
          ],
          "table": [
           {
            "cells": {
             "fill": {
              "color": "#EBF0F8"
             },
             "line": {
              "color": "white"
             }
            },
            "header": {
             "fill": {
              "color": "#C8D4E3"
             },
             "line": {
              "color": "white"
             }
            },
            "type": "table"
           }
          ]
         },
         "layout": {
          "annotationdefaults": {
           "arrowcolor": "#2a3f5f",
           "arrowhead": 0,
           "arrowwidth": 1
          },
          "autotypenumbers": "strict",
          "coloraxis": {
           "colorbar": {
            "outlinewidth": 0,
            "ticks": ""
           }
          },
          "colorscale": {
           "diverging": [
            [
             0,
             "#8e0152"
            ],
            [
             0.1,
             "#c51b7d"
            ],
            [
             0.2,
             "#de77ae"
            ],
            [
             0.3,
             "#f1b6da"
            ],
            [
             0.4,
             "#fde0ef"
            ],
            [
             0.5,
             "#f7f7f7"
            ],
            [
             0.6,
             "#e6f5d0"
            ],
            [
             0.7,
             "#b8e186"
            ],
            [
             0.8,
             "#7fbc41"
            ],
            [
             0.9,
             "#4d9221"
            ],
            [
             1,
             "#276419"
            ]
           ],
           "sequential": [
            [
             0,
             "#0d0887"
            ],
            [
             0.1111111111111111,
             "#46039f"
            ],
            [
             0.2222222222222222,
             "#7201a8"
            ],
            [
             0.3333333333333333,
             "#9c179e"
            ],
            [
             0.4444444444444444,
             "#bd3786"
            ],
            [
             0.5555555555555556,
             "#d8576b"
            ],
            [
             0.6666666666666666,
             "#ed7953"
            ],
            [
             0.7777777777777778,
             "#fb9f3a"
            ],
            [
             0.8888888888888888,
             "#fdca26"
            ],
            [
             1,
             "#f0f921"
            ]
           ],
           "sequentialminus": [
            [
             0,
             "#0d0887"
            ],
            [
             0.1111111111111111,
             "#46039f"
            ],
            [
             0.2222222222222222,
             "#7201a8"
            ],
            [
             0.3333333333333333,
             "#9c179e"
            ],
            [
             0.4444444444444444,
             "#bd3786"
            ],
            [
             0.5555555555555556,
             "#d8576b"
            ],
            [
             0.6666666666666666,
             "#ed7953"
            ],
            [
             0.7777777777777778,
             "#fb9f3a"
            ],
            [
             0.8888888888888888,
             "#fdca26"
            ],
            [
             1,
             "#f0f921"
            ]
           ]
          },
          "colorway": [
           "#636efa",
           "#EF553B",
           "#00cc96",
           "#ab63fa",
           "#FFA15A",
           "#19d3f3",
           "#FF6692",
           "#B6E880",
           "#FF97FF",
           "#FECB52"
          ],
          "font": {
           "color": "#2a3f5f"
          },
          "geo": {
           "bgcolor": "white",
           "lakecolor": "white",
           "landcolor": "#E5ECF6",
           "showlakes": true,
           "showland": true,
           "subunitcolor": "white"
          },
          "hoverlabel": {
           "align": "left"
          },
          "hovermode": "closest",
          "mapbox": {
           "style": "light"
          },
          "paper_bgcolor": "white",
          "plot_bgcolor": "#E5ECF6",
          "polar": {
           "angularaxis": {
            "gridcolor": "white",
            "linecolor": "white",
            "ticks": ""
           },
           "bgcolor": "#E5ECF6",
           "radialaxis": {
            "gridcolor": "white",
            "linecolor": "white",
            "ticks": ""
           }
          },
          "scene": {
           "xaxis": {
            "backgroundcolor": "#E5ECF6",
            "gridcolor": "white",
            "gridwidth": 2,
            "linecolor": "white",
            "showbackground": true,
            "ticks": "",
            "zerolinecolor": "white"
           },
           "yaxis": {
            "backgroundcolor": "#E5ECF6",
            "gridcolor": "white",
            "gridwidth": 2,
            "linecolor": "white",
            "showbackground": true,
            "ticks": "",
            "zerolinecolor": "white"
           },
           "zaxis": {
            "backgroundcolor": "#E5ECF6",
            "gridcolor": "white",
            "gridwidth": 2,
            "linecolor": "white",
            "showbackground": true,
            "ticks": "",
            "zerolinecolor": "white"
           }
          },
          "shapedefaults": {
           "line": {
            "color": "#2a3f5f"
           }
          },
          "ternary": {
           "aaxis": {
            "gridcolor": "white",
            "linecolor": "white",
            "ticks": ""
           },
           "baxis": {
            "gridcolor": "white",
            "linecolor": "white",
            "ticks": ""
           },
           "bgcolor": "#E5ECF6",
           "caxis": {
            "gridcolor": "white",
            "linecolor": "white",
            "ticks": ""
           }
          },
          "title": {
           "x": 0.05
          },
          "xaxis": {
           "automargin": true,
           "gridcolor": "white",
           "linecolor": "white",
           "ticks": "",
           "title": {
            "standoff": 15
           },
           "zerolinecolor": "white",
           "zerolinewidth": 2
          },
          "yaxis": {
           "automargin": true,
           "gridcolor": "white",
           "linecolor": "white",
           "ticks": "",
           "title": {
            "standoff": 15
           },
           "zerolinecolor": "white",
           "zerolinewidth": 2
          }
         }
        }
       }
      },
      "image/png": "[encoded data removed]",
      "text/html": [
       "<div>                            <div id=\"ba9ea8c1-3d8b-42c7-9c18-72d80f1c9744\" class=\"plotly-graph-div\" style=\"height:525px; width:100%;\"></div>            <script type=\"text/javascript\">                require([\"plotly\"], function(Plotly) {                    window.PLOTLYENV=window.PLOTLYENV || {};                                    if (document.getElementById(\"ba9ea8c1-3d8b-42c7-9c18-72d80f1c9744\")) {                    Plotly.newPlot(                        \"ba9ea8c1-3d8b-42c7-9c18-72d80f1c9744\",                        [{\"gauge\":{\"axis\":{\"range\":[null,100]},\"bar\":{\"color\":\"red\"},\"steps\":[{\"color\":\"lightgray\",\"range\":[98,100],\"thickness\":0.5}]},\"mode\":\"gauge+number\",\"title\":{\"text\":\"Clinic Accessibility\"},\"value\":98,\"type\":\"indicator\"}],                        {\"template\":{\"data\":{\"histogram2dcontour\":[{\"type\":\"histogram2dcontour\",\"colorbar\":{\"outlinewidth\":0,\"ticks\":\"\"},\"colorscale\":[[0.0,\"#0d0887\"],[0.1111111111111111,\"#46039f\"],[0.2222222222222222,\"#7201a8\"],[0.3333333333333333,\"#9c179e\"],[0.4444444444444444,\"#bd3786\"],[0.5555555555555556,\"#d8576b\"],[0.6666666666666666,\"#ed7953\"],[0.7777777777777778,\"#fb9f3a\"],[0.8888888888888888,\"#fdca26\"],[1.0,\"#f0f921\"]]}],\"choropleth\":[{\"type\":\"choropleth\",\"colorbar\":{\"outlinewidth\":0,\"ticks\":\"\"}}],\"histogram2d\":[{\"type\":\"histogram2d\",\"colorbar\":{\"outlinewidth\":0,\"ticks\":\"\"},\"colorscale\":[[0.0,\"#0d0887\"],[0.1111111111111111,\"#46039f\"],[0.2222222222222222,\"#7201a8\"],[0.3333333333333333,\"#9c179e\"],[0.4444444444444444,\"#bd3786\"],[0.5555555555555556,\"#d8576b\"],[0.6666666666666666,\"#ed7953\"],[0.7777777777777778,\"#fb9f3a\"],[0.8888888888888888,\"#fdca26\"],[1.0,\"#f0f921\"]]}],\"heatmap\":[{\"type\":\"heatmap\",\"colorbar\":{\"outlinewidth\":0,\"ticks\":\"\"},\"colorscale\":[[0.0,\"#0d0887\"],[0.1111111111111111,\"#46039f\"],[0.2222222222222222,\"#7201a8\"],[0.3333333333333333,\"#9c179e\"],[0.4444444444444444,\"#bd3786\"],[0.5555555555555556,\"#d8576b\"],[0.6666666666666666,\"#ed7953\"],[0.7777777777777778,\"#fb9f3a\"],[0.8888888888888888,\"#fdca26\"],[1.0,\"#f0f921\"]]}],\"heatmapgl\":[{\"type\":\"heatmapgl\",\"colorbar\":{\"outlinewidth\":0,\"ticks\":\"\"},\"colorscale\":[[0.0,\"#0d0887\"],[0.1111111111111111,\"#46039f\"],[0.2222222222222222,\"#7201a8\"],[0.3333333333333333,\"#9c179e\"],[0.4444444444444444,\"#bd3786\"],[0.5555555555555556,\"#d8576b\"],[0.6666666666666666,\"#ed7953\"],[0.7777777777777778,\"#fb9f3a\"],[0.8888888888888888,\"#fdca26\"],[1.0,\"#f0f921\"]]}],\"contourcarpet\":[{\"type\":\"contourcarpet\",\"colorbar\":{\"outlinewidth\":0,\"ticks\":\"\"}}],\"contour\":[{\"type\":\"contour\",\"colorbar\":{\"outlinewidth\":0,\"ticks\":\"\"},\"colorscale\":[[0.0,\"#0d0887\"],[0.1111111111111111,\"#46039f\"],[0.2222222222222222,\"#7201a8\"],[0.3333333333333333,\"#9c179e\"],[0.4444444444444444,\"#bd3786\"],[0.5555555555555556,\"#d8576b\"],[0.6666666666666666,\"#ed7953\"],[0.7777777777777778,\"#fb9f3a\"],[0.8888888888888888,\"#fdca26\"],[1.0,\"#f0f921\"]]}],\"surface\":[{\"type\":\"surface\",\"colorbar\":{\"outlinewidth\":0,\"ticks\":\"\"},\"colorscale\":[[0.0,\"#0d0887\"],[0.1111111111111111,\"#46039f\"],[0.2222222222222222,\"#7201a8\"],[0.3333333333333333,\"#9c179e\"],[0.4444444444444444,\"#bd3786\"],[0.5555555555555556,\"#d8576b\"],[0.6666666666666666,\"#ed7953\"],[0.7777777777777778,\"#fb9f3a\"],[0.8888888888888888,\"#fdca26\"],[1.0,\"#f0f921\"]]}],\"mesh3d\":[{\"type\":\"mesh3d\",\"colorbar\":{\"outlinewidth\":0,\"ticks\":\"\"}}],\"scatter\":[{\"fillpattern\":{\"fillmode\":\"overlay\",\"size\":10,\"solidity\":0.2},\"type\":\"scatter\"}],\"parcoords\":[{\"type\":\"parcoords\",\"line\":{\"colorbar\":{\"outlinewidth\":0,\"ticks\":\"\"}}}],\"scatterpolargl\":[{\"type\":\"scatterpolargl\",\"marker\":{\"colorbar\":{\"outlinewidth\":0,\"ticks\":\"\"}}}],\"bar\":[{\"error_x\":{\"color\":\"#2a3f5f\"},\"error_y\":{\"color\":\"#2a3f5f\"},\"marker\":{\"line\":{\"color\":\"#E5ECF6\",\"width\":0.5},\"pattern\":{\"fillmode\":\"overlay\",\"size\":10,\"solidity\":0.2}},\"type\":\"bar\"}],\"scattergeo\":[{\"type\":\"scattergeo\",\"marker\":{\"colorbar\":{\"outlinewidth\":0,\"ticks\":\"\"}}}],\"scatterpolar\":[{\"type\":\"scatterpolar\",\"marker\":{\"colorbar\":{\"outlinewidth\":0,\"ticks\":\"\"}}}],\"histogram\":[{\"marker\":{\"pattern\":{\"fillmode\":\"overlay\",\"size\":10,\"solidity\":0.2}},\"type\":\"histogram\"}],\"scattergl\":[{\"type\":\"scattergl\",\"marker\":{\"colorbar\":{\"outlinewidth\":0,\"ticks\":\"\"}}}],\"scatter3d\":[{\"type\":\"scatter3d\",\"line\":{\"colorbar\":{\"outlinewidth\":0,\"ticks\":\"\"}},\"marker\":{\"colorbar\":{\"outlinewidth\":0,\"ticks\":\"\"}}}],\"scattermapbox\":[{\"type\":\"scattermapbox\",\"marker\":{\"colorbar\":{\"outlinewidth\":0,\"ticks\":\"\"}}}],\"scatterternary\":[{\"type\":\"scatterternary\",\"marker\":{\"colorbar\":{\"outlinewidth\":0,\"ticks\":\"\"}}}],\"scattercarpet\":[{\"type\":\"scattercarpet\",\"marker\":{\"colorbar\":{\"outlinewidth\":0,\"ticks\":\"\"}}}],\"carpet\":[{\"aaxis\":{\"endlinecolor\":\"#2a3f5f\",\"gridcolor\":\"white\",\"linecolor\":\"white\",\"minorgridcolor\":\"white\",\"startlinecolor\":\"#2a3f5f\"},\"baxis\":{\"endlinecolor\":\"#2a3f5f\",\"gridcolor\":\"white\",\"linecolor\":\"white\",\"minorgridcolor\":\"white\",\"startlinecolor\":\"#2a3f5f\"},\"type\":\"carpet\"}],\"table\":[{\"cells\":{\"fill\":{\"color\":\"#EBF0F8\"},\"line\":{\"color\":\"white\"}},\"header\":{\"fill\":{\"color\":\"#C8D4E3\"},\"line\":{\"color\":\"white\"}},\"type\":\"table\"}],\"barpolar\":[{\"marker\":{\"line\":{\"color\":\"#E5ECF6\",\"width\":0.5},\"pattern\":{\"fillmode\":\"overlay\",\"size\":10,\"solidity\":0.2}},\"type\":\"barpolar\"}],\"pie\":[{\"automargin\":true,\"type\":\"pie\"}]},\"layout\":{\"autotypenumbers\":\"strict\",\"colorway\":[\"#636efa\",\"#EF553B\",\"#00cc96\",\"#ab63fa\",\"#FFA15A\",\"#19d3f3\",\"#FF6692\",\"#B6E880\",\"#FF97FF\",\"#FECB52\"],\"font\":{\"color\":\"#2a3f5f\"},\"hovermode\":\"closest\",\"hoverlabel\":{\"align\":\"left\"},\"paper_bgcolor\":\"white\",\"plot_bgcolor\":\"#E5ECF6\",\"polar\":{\"bgcolor\":\"#E5ECF6\",\"angularaxis\":{\"gridcolor\":\"white\",\"linecolor\":\"white\",\"ticks\":\"\"},\"radialaxis\":{\"gridcolor\":\"white\",\"linecolor\":\"white\",\"ticks\":\"\"}},\"ternary\":{\"bgcolor\":\"#E5ECF6\",\"aaxis\":{\"gridcolor\":\"white\",\"linecolor\":\"white\",\"ticks\":\"\"},\"baxis\":{\"gridcolor\":\"white\",\"linecolor\":\"white\",\"ticks\":\"\"},\"caxis\":{\"gridcolor\":\"white\",\"linecolor\":\"white\",\"ticks\":\"\"}},\"coloraxis\":{\"colorbar\":{\"outlinewidth\":0,\"ticks\":\"\"}},\"colorscale\":{\"sequential\":[[0.0,\"#0d0887\"],[0.1111111111111111,\"#46039f\"],[0.2222222222222222,\"#7201a8\"],[0.3333333333333333,\"#9c179e\"],[0.4444444444444444,\"#bd3786\"],[0.5555555555555556,\"#d8576b\"],[0.6666666666666666,\"#ed7953\"],[0.7777777777777778,\"#fb9f3a\"],[0.8888888888888888,\"#fdca26\"],[1.0,\"#f0f921\"]],\"sequentialminus\":[[0.0,\"#0d0887\"],[0.1111111111111111,\"#46039f\"],[0.2222222222222222,\"#7201a8\"],[0.3333333333333333,\"#9c179e\"],[0.4444444444444444,\"#bd3786\"],[0.5555555555555556,\"#d8576b\"],[0.6666666666666666,\"#ed7953\"],[0.7777777777777778,\"#fb9f3a\"],[0.8888888888888888,\"#fdca26\"],[1.0,\"#f0f921\"]],\"diverging\":[[0,\"#8e0152\"],[0.1,\"#c51b7d\"],[0.2,\"#de77ae\"],[0.3,\"#f1b6da\"],[0.4,\"#fde0ef\"],[0.5,\"#f7f7f7\"],[0.6,\"#e6f5d0\"],[0.7,\"#b8e186\"],[0.8,\"#7fbc41\"],[0.9,\"#4d9221\"],[1,\"#276419\"]]},\"xaxis\":{\"gridcolor\":\"white\",\"linecolor\":\"white\",\"ticks\":\"\",\"title\":{\"standoff\":15},\"zerolinecolor\":\"white\",\"automargin\":true,\"zerolinewidth\":2},\"yaxis\":{\"gridcolor\":\"white\",\"linecolor\":\"white\",\"ticks\":\"\",\"title\":{\"standoff\":15},\"zerolinecolor\":\"white\",\"automargin\":true,\"zerolinewidth\":2},\"scene\":{\"xaxis\":{\"backgroundcolor\":\"#E5ECF6\",\"gridcolor\":\"white\",\"linecolor\":\"white\",\"showbackground\":true,\"ticks\":\"\",\"zerolinecolor\":\"white\",\"gridwidth\":2},\"yaxis\":{\"backgroundcolor\":\"#E5ECF6\",\"gridcolor\":\"white\",\"linecolor\":\"white\",\"showbackground\":true,\"ticks\":\"\",\"zerolinecolor\":\"white\",\"gridwidth\":2},\"zaxis\":{\"backgroundcolor\":\"#E5ECF6\",\"gridcolor\":\"white\",\"linecolor\":\"white\",\"showbackground\":true,\"ticks\":\"\",\"zerolinecolor\":\"white\",\"gridwidth\":2}},\"shapedefaults\":{\"line\":{\"color\":\"#2a3f5f\"}},\"annotationdefaults\":{\"arrowcolor\":\"#2a3f5f\",\"arrowhead\":0,\"arrowwidth\":1},\"geo\":{\"bgcolor\":\"white\",\"landcolor\":\"#E5ECF6\",\"subunitcolor\":\"white\",\"showland\":true,\"showlakes\":true,\"lakecolor\":\"white\"},\"title\":{\"x\":0.05},\"mapbox\":{\"style\":\"light\"}}},\"annotations\":[{\"align\":\"center\",\"font\":{\"size\":24},\"showarrow\":false,\"text\":\"% of counties without abortion clinics\",\"x\":0,\"xref\":\"paper\",\"y\":-0.2,\"yref\":\"paper\"}]},                        {\"responsive\": true}                    ).then(function(){\n",
       "                            \n",
       "var gd = document.getElementById('ba9ea8c1-3d8b-42c7-9c18-72d80f1c9744');\n",
       "var x = new MutationObserver(function (mutations, observer) {{\n",
       "        var display = window.getComputedStyle(gd).display;\n",
       "        if (!display || display === 'none') {{\n",
       "            console.log([gd, 'removed!']);\n",
       "            Plotly.purge(gd);\n",
       "            observer.disconnect();\n",
       "        }}\n",
       "}});\n",
       "\n",
       "// Listen for the removal of the full notebook cells\n",
       "var notebookContainer = gd.closest('#notebook-container');\n",
       "if (notebookContainer) {{\n",
       "    x.observe(notebookContainer, {childList: true});\n",
       "}}\n",
       "\n",
       "// Listen for the clearing of the current output cell\n",
       "var outputEl = gd.closest('.output');\n",
       "if (outputEl) {{\n",
       "    x.observe(outputEl, {childList: true});\n",
       "}}\n",
       "\n",
       "                        })                };                });            </script>        </div>"
      ]
     },
     "metadata": {},
     "output_type": "display_data"
    }
   ],
   "source": [
    "import plotly.graph_objs as go\n",
    "\n",
    "# Function to draw the gauge chart\n",
    "def draw_gauge_chart(score, title=\"Clinic Accessibility\"):\n",
    "    # Get the access level and color based on the percentage\n",
    "    access_level, color = categorize_access(score)\n",
    "    \n",
    "    # Draw the gauge chart using Plotly\n",
    "    fig = go.Figure()\n",
    "\n",
    "    fig.add_trace(go.Indicator(\n",
    "        mode = \"gauge+number\",\n",
    "        value = score,\n",
    "        title = {'text': title},\n",
    "        gauge = {\n",
    "            'axis': {'range': [None, 100]},\n",
    "            'bar': {'color': color}, # the bar color\n",
    "            'steps' : [\n",
    "                {'range': [score, 100], 'color': 'lightgray', \n",
    "                    'thickness': 0.5},\n",
    "            ],\n",
    "        }\n",
    "    ))\n",
    "    \n",
    "    # note to make it dependent on input\n",
    "    \n",
    "    caption = go.layout.Annotation(\n",
    "    text=f\"% of counties without abortion clinics\",\n",
    "    showarrow=False,\n",
    "    xref=\"paper\",\n",
    "    yref=\"paper\",\n",
    "    x=0,\n",
    "    y=-0.2,\n",
    "    font=dict(size=24),\n",
    "    align='center',\n",
    "   )\n",
    "\n",
    "    fig.update_layout(annotations=[caption])\n",
    "    fig.show()\n",
    "\n",
    "# Example usage:\n",
    "input_state = 'Kansas'  # Replace with the actual state name\n",
    "score = get_score_by_state(input_state)\n",
    "if score is not None:\n",
    "    draw_gauge_chart(score)\n",
    "else:\n",
    "    print(f\"No data available for {input_state}.\")\n"
   ]
  },
  {
   "cell_type": "code",
   "execution_count": null,
   "id": "6b584abc-60e3-4cf8-90c3-9fef10fd7158",
   "metadata": {},
   "outputs": [],
   "source": [
    "#Function for generating visual based on input"
   ]
  },
  {
   "cell_type": "markdown",
   "id": "ec1546ef-ef3f-4efa-8c9e-be96bbd8410c",
   "metadata": {},
   "source": [
    "## (Cost) Data Cleaning ## "
   ]
  },
  {
   "cell_type": "code",
   "execution_count": 153,
   "id": "7b65e3e5-4e33-4654-a9eb-26129d4006c5",
   "metadata": {
    "tags": []
   },
   "outputs": [],
   "source": [
    "df.columns\n",
    "\n",
    "\n",
    "df = df.rename(columns={\n",
    "    'U.S. State': 'State',\n",
    "    '% of births that were publicly funded, 2010': 'Publicly Funded Births (%)',\n",
    "    '% of counties without a known abortion provider, 2014': '(%) Counties without Abortion Provider',\n",
    "    '% of counties without a known clinic, 2020 [4]': '(%) Counties without Clinic',\n",
    "    '% of likely need met by Title X-funded centers, 2016': 'Title X Center Need Met',\n",
    "    '% of likely need met by publicly funded centers, 2016': 'Publicly Funded Centers Need Met',\n",
    "    'No. of abortion clinics, 2020 [4]': 'No of Abortion Clinics',\n",
    "    'No. of births averted by publicly funded centers, 2016': 'Births Averted by Publicly Funded Centers',\n",
    "    'Annual abortion costs saved from contraceptive services at publicly funded family planning centers (in 000s of dollars), 2010': \n",
    "    'Abortion Costs Saved at Publicly Funded Family Planning Centers',\n",
    "    'Annual abortion costs saved from contraceptive services at Title X funded centers (in 000s of dollars), 2010':\n",
    "    'Abortion Costs Saved at Title X Funded Centers',\n",
    "    'No. of publicly funded family planning centers, 2015': 'No. of publicly funded centers',\n",
    "    'No. of Title X-funded centers, 2015': 'No. of Title-X centers',\n",
    "    'No. of abortion providers, 2017 [4]': 'No. of abortion providers',\n",
    "})"
   ]
  },
  {
   "cell_type": "code",
   "execution_count": 154,
   "id": "9bdaddd4-2068-4e12-8cc5-9c1fed07336a",
   "metadata": {
    "tags": []
   },
   "outputs": [],
   "source": [
    "cost_data =  df[['State', 'Publicly Funded Births (%)', 'Title X Center Need Met', 'Publicly Funded Centers Need Met',\n",
    "            'Births Averted by Publicly Funded Centers', 'Abortion Costs Saved at Publicly Funded Family Planning Centers',\n",
    "            'Abortion Costs Saved at Title X Funded Centers',\n",
    "                'No. of publicly funded centers',\n",
    "                'No. of Title-X centers', 'No. of abortion providers']]"
   ]
  },
  {
   "cell_type": "code",
   "execution_count": 155,
   "id": "b3194d97-43b5-4489-8149-a864b68e8288",
   "metadata": {
    "tags": []
   },
   "outputs": [
    {
     "data": {
      "text/html": [
       "<div>\n",
       "<style scoped>\n",
       "    .dataframe tbody tr th:only-of-type {\n",
       "        vertical-align: middle;\n",
       "    }\n",
       "\n",
       "    .dataframe tbody tr th {\n",
       "        vertical-align: top;\n",
       "    }\n",
       "\n",
       "    .dataframe thead th {\n",
       "        text-align: right;\n",
       "    }\n",
       "</style>\n",
       "<table border=\"1\" class=\"dataframe\">\n",
       "  <thead>\n",
       "    <tr style=\"text-align: right;\">\n",
       "      <th></th>\n",
       "      <th>State</th>\n",
       "      <th>Publicly Funded Births (%)</th>\n",
       "      <th>Title X Center Need Met</th>\n",
       "      <th>Publicly Funded Centers Need Met</th>\n",
       "      <th>Births Averted by Publicly Funded Centers</th>\n",
       "      <th>Abortion Costs Saved at Publicly Funded Family Planning Centers</th>\n",
       "      <th>Abortion Costs Saved at Title X Funded Centers</th>\n",
       "      <th>No. of publicly funded centers</th>\n",
       "      <th>No. of Title-X centers</th>\n",
       "      <th>No. of abortion providers</th>\n",
       "    </tr>\n",
       "  </thead>\n",
       "  <tbody>\n",
       "    <tr>\n",
       "      <th>0</th>\n",
       "      <td>California</td>\n",
       "      <td>49.7</td>\n",
       "      <td>36</td>\n",
       "      <td>64</td>\n",
       "      <td>163,380</td>\n",
       "      <td>17,463</td>\n",
       "      <td>12,566</td>\n",
       "      <td>1,697</td>\n",
       "      <td>353</td>\n",
       "      <td>419.0</td>\n",
       "    </tr>\n",
       "    <tr>\n",
       "      <th>1</th>\n",
       "      <td>Georgia</td>\n",
       "      <td>61.6</td>\n",
       "      <td>12</td>\n",
       "      <td>26</td>\n",
       "      <td>19,680</td>\n",
       "      <td>5</td>\n",
       "      <td>3</td>\n",
       "      <td>383</td>\n",
       "      <td>125</td>\n",
       "      <td>26.0</td>\n",
       "    </tr>\n",
       "    <tr>\n",
       "      <th>2</th>\n",
       "      <td>Illinois</td>\n",
       "      <td>55.5</td>\n",
       "      <td>13</td>\n",
       "      <td>24</td>\n",
       "      <td>19,210</td>\n",
       "      <td>74</td>\n",
       "      <td>41</td>\n",
       "      <td>340</td>\n",
       "      <td>95</td>\n",
       "      <td>40.0</td>\n",
       "    </tr>\n",
       "    <tr>\n",
       "      <th>3</th>\n",
       "      <td>Washington</td>\n",
       "      <td>45.2</td>\n",
       "      <td>20</td>\n",
       "      <td>66</td>\n",
       "      <td>13,670</td>\n",
       "      <td>3,471</td>\n",
       "      <td>2,314</td>\n",
       "      <td>257</td>\n",
       "      <td>64</td>\n",
       "      <td>51.0</td>\n",
       "    </tr>\n",
       "    <tr>\n",
       "      <th>4</th>\n",
       "      <td>Colorado</td>\n",
       "      <td>44.2</td>\n",
       "      <td>12</td>\n",
       "      <td>35</td>\n",
       "      <td>11,660</td>\n",
       "      <td>0</td>\n",
       "      <td>0</td>\n",
       "      <td>221</td>\n",
       "      <td>64</td>\n",
       "      <td>32.0</td>\n",
       "    </tr>\n",
       "    <tr>\n",
       "      <th>5</th>\n",
       "      <td>Kansas</td>\n",
       "      <td>32.5 [2]</td>\n",
       "      <td>13</td>\n",
       "      <td>18</td>\n",
       "      <td>3,470</td>\n",
       "      <td>0</td>\n",
       "      <td>0</td>\n",
       "      <td>128</td>\n",
       "      <td>63</td>\n",
       "      <td>4.0</td>\n",
       "    </tr>\n",
       "    <tr>\n",
       "      <th>6</th>\n",
       "      <td>New York</td>\n",
       "      <td>52.2</td>\n",
       "      <td>23</td>\n",
       "      <td>37</td>\n",
       "      <td>43,820</td>\n",
       "      <td>4,279</td>\n",
       "      <td>3,129</td>\n",
       "      <td>557</td>\n",
       "      <td>175</td>\n",
       "      <td>252.0</td>\n",
       "    </tr>\n",
       "    <tr>\n",
       "      <th>7</th>\n",
       "      <td>Texas</td>\n",
       "      <td>60.9</td>\n",
       "      <td>8</td>\n",
       "      <td>21</td>\n",
       "      <td>41,890</td>\n",
       "      <td>1</td>\n",
       "      <td>1</td>\n",
       "      <td>453</td>\n",
       "      <td>96</td>\n",
       "      <td>35.0</td>\n",
       "    </tr>\n",
       "    <tr>\n",
       "      <th>8</th>\n",
       "      <td>Pennsylvania</td>\n",
       "      <td>38.5</td>\n",
       "      <td>24</td>\n",
       "      <td>32</td>\n",
       "      <td>23,580</td>\n",
       "      <td>1</td>\n",
       "      <td>1</td>\n",
       "      <td>309</td>\n",
       "      <td>169</td>\n",
       "      <td>43.0</td>\n",
       "    </tr>\n",
       "    <tr>\n",
       "      <th>9</th>\n",
       "      <td>Massachusetts</td>\n",
       "      <td>35.3</td>\n",
       "      <td>16</td>\n",
       "      <td>25</td>\n",
       "      <td>9,170</td>\n",
       "      <td>488</td>\n",
       "      <td>298</td>\n",
       "      <td>229</td>\n",
       "      <td>90</td>\n",
       "      <td>47.0</td>\n",
       "    </tr>\n",
       "  </tbody>\n",
       "</table>\n",
       "</div>"
      ],
      "text/plain": [
       "           State Publicly Funded Births (%) Title X Center Need Met  \\\n",
       "0     California                       49.7                      36   \n",
       "1        Georgia                       61.6                      12   \n",
       "2       Illinois                       55.5                      13   \n",
       "3     Washington                       45.2                      20   \n",
       "4       Colorado                       44.2                      12   \n",
       "5         Kansas                   32.5 [2]                      13   \n",
       "6       New York                       52.2                      23   \n",
       "7          Texas                       60.9                       8   \n",
       "8   Pennsylvania                       38.5                      24   \n",
       "9  Massachusetts                       35.3                      16   \n",
       "\n",
       "  Publicly Funded Centers Need Met Births Averted by Publicly Funded Centers  \\\n",
       "0                               64                                   163,380   \n",
       "1                               26                                    19,680   \n",
       "2                               24                                    19,210   \n",
       "3                               66                                    13,670   \n",
       "4                               35                                    11,660   \n",
       "5                               18                                     3,470   \n",
       "6                               37                                    43,820   \n",
       "7                               21                                    41,890   \n",
       "8                               32                                    23,580   \n",
       "9                               25                                     9,170   \n",
       "\n",
       "  Abortion Costs Saved at Publicly Funded Family Planning Centers  \\\n",
       "0                                             17,463                \n",
       "1                                                  5                \n",
       "2                                                 74                \n",
       "3                                              3,471                \n",
       "4                                                  0                \n",
       "5                                                  0                \n",
       "6                                              4,279                \n",
       "7                                                  1                \n",
       "8                                                  1                \n",
       "9                                                488                \n",
       "\n",
       "  Abortion Costs Saved at Title X Funded Centers  \\\n",
       "0                                         12,566   \n",
       "1                                              3   \n",
       "2                                             41   \n",
       "3                                          2,314   \n",
       "4                                              0   \n",
       "5                                              0   \n",
       "6                                          3,129   \n",
       "7                                              1   \n",
       "8                                              1   \n",
       "9                                            298   \n",
       "\n",
       "  No. of publicly funded centers No. of Title-X centers  \\\n",
       "0                          1,697                    353   \n",
       "1                            383                    125   \n",
       "2                            340                     95   \n",
       "3                            257                     64   \n",
       "4                            221                     64   \n",
       "5                            128                     63   \n",
       "6                            557                    175   \n",
       "7                            453                     96   \n",
       "8                            309                    169   \n",
       "9                            229                     90   \n",
       "\n",
       "   No. of abortion providers  \n",
       "0                      419.0  \n",
       "1                       26.0  \n",
       "2                       40.0  \n",
       "3                       51.0  \n",
       "4                       32.0  \n",
       "5                        4.0  \n",
       "6                      252.0  \n",
       "7                       35.0  \n",
       "8                       43.0  \n",
       "9                       47.0  "
      ]
     },
     "execution_count": 155,
     "metadata": {},
     "output_type": "execute_result"
    }
   ],
   "source": [
    "#Analyzing cost data\n",
    "\n",
    "cost_data  = cost_data.drop([10,11,12])\n",
    "\n",
    "#print(cost)\n",
    "\n",
    "#abortion \n",
    "cost_data.head(n=10)"
   ]
  },
  {
   "cell_type": "code",
   "execution_count": 156,
   "id": "f92fa1f3-9d1e-48a3-a4e1-f05ca780d736",
   "metadata": {
    "tags": []
   },
   "outputs": [
    {
     "data": {
      "text/plain": [
       "State                                                               object\n",
       "Publicly Funded Births (%)                                          object\n",
       "Title X Center Need Met                                             object\n",
       "Publicly Funded Centers Need Met                                    object\n",
       "Births Averted by Publicly Funded Centers                           object\n",
       "Abortion Costs Saved at Publicly Funded Family Planning Centers     object\n",
       "Abortion Costs Saved at Title X Funded Centers                      object\n",
       "No. of publicly funded centers                                      object\n",
       "No. of Title-X centers                                              object\n",
       "No. of abortion providers                                          float64\n",
       "dtype: object"
      ]
     },
     "execution_count": 156,
     "metadata": {},
     "output_type": "execute_result"
    }
   ],
   "source": [
    "cost_data.dtypes"
   ]
  },
  {
   "cell_type": "code",
   "execution_count": 165,
   "id": "05ab2b77-21fc-4a74-a480-769ac82bacf2",
   "metadata": {},
   "outputs": [
    {
     "data": {
      "text/plain": [
       "Index(['Publicly Funded Births (%)', 'Title X Center Need Met',\n",
       "       'Publicly Funded Centers Need Met',\n",
       "       'Births Averted by Publicly Funded Centers',\n",
       "       'Abortion Costs Saved at Publicly Funded Family Planning Centers',\n",
       "       'Abortion Costs Saved at Title X Funded Centers',\n",
       "       'No. of publicly funded centers', 'No. of Title-X centers',\n",
       "       'No. of abortion providers'],\n",
       "      dtype='object')"
      ]
     },
     "execution_count": 165,
     "metadata": {},
     "output_type": "execute_result"
    }
   ],
   "source": [
    "cost_data.columns[1:10]"
   ]
  },
  {
   "cell_type": "code",
   "execution_count": 167,
   "id": "8736f04b-d9e3-49b9-af72-25ceabbfc815",
   "metadata": {
    "tags": []
   },
   "outputs": [
    {
     "data": {
      "text/plain": [
       "State                                                               object\n",
       "Publicly Funded Births (%)                                         float64\n",
       "Title X Center Need Met                                              int64\n",
       "Publicly Funded Centers Need Met                                     int64\n",
       "Births Averted by Publicly Funded Centers                            int64\n",
       "Abortion Costs Saved at Publicly Funded Family Planning Centers      int64\n",
       "Abortion Costs Saved at Title X Funded Centers                       int64\n",
       "No. of publicly funded centers                                       int64\n",
       "No. of Title-X centers                                               int64\n",
       "No. of abortion providers                                          float64\n",
       "dtype: object"
      ]
     },
     "execution_count": 167,
     "metadata": {},
     "output_type": "execute_result"
    }
   ],
   "source": [
    "cost_data.dtypes"
   ]
  },
  {
   "cell_type": "code",
   "execution_count": 169,
   "id": "bbb66148-f4f6-4e5d-ba2b-ee09abc250bd",
   "metadata": {
    "tags": []
   },
   "outputs": [
    {
     "data": {
      "text/html": [
       "<div>\n",
       "<style scoped>\n",
       "    .dataframe tbody tr th:only-of-type {\n",
       "        vertical-align: middle;\n",
       "    }\n",
       "\n",
       "    .dataframe tbody tr th {\n",
       "        vertical-align: top;\n",
       "    }\n",
       "\n",
       "    .dataframe thead th {\n",
       "        text-align: right;\n",
       "    }\n",
       "</style>\n",
       "<table border=\"1\" class=\"dataframe\">\n",
       "  <thead>\n",
       "    <tr style=\"text-align: right;\">\n",
       "      <th></th>\n",
       "      <th>State</th>\n",
       "      <th>Publicly Funded Births (%)</th>\n",
       "      <th>Title X Center Need Met</th>\n",
       "      <th>Publicly Funded Centers Need Met</th>\n",
       "      <th>Births Averted by Publicly Funded Centers</th>\n",
       "      <th>Abortion Costs Saved at Publicly Funded Family Planning Centers</th>\n",
       "      <th>Abortion Costs Saved at Title X Funded Centers</th>\n",
       "      <th>No. of publicly funded centers</th>\n",
       "      <th>No. of Title-X centers</th>\n",
       "      <th>No. of abortion providers</th>\n",
       "    </tr>\n",
       "  </thead>\n",
       "  <tbody>\n",
       "    <tr>\n",
       "      <th>0</th>\n",
       "      <td>California</td>\n",
       "      <td>49.70</td>\n",
       "      <td>36</td>\n",
       "      <td>64</td>\n",
       "      <td>163380</td>\n",
       "      <td>17463</td>\n",
       "      <td>12566</td>\n",
       "      <td>1697</td>\n",
       "      <td>353</td>\n",
       "      <td>419.0</td>\n",
       "    </tr>\n",
       "    <tr>\n",
       "      <th>1</th>\n",
       "      <td>Georgia</td>\n",
       "      <td>61.60</td>\n",
       "      <td>12</td>\n",
       "      <td>26</td>\n",
       "      <td>19680</td>\n",
       "      <td>5</td>\n",
       "      <td>3</td>\n",
       "      <td>383</td>\n",
       "      <td>125</td>\n",
       "      <td>26.0</td>\n",
       "    </tr>\n",
       "    <tr>\n",
       "      <th>2</th>\n",
       "      <td>Illinois</td>\n",
       "      <td>55.50</td>\n",
       "      <td>13</td>\n",
       "      <td>24</td>\n",
       "      <td>19210</td>\n",
       "      <td>74</td>\n",
       "      <td>41</td>\n",
       "      <td>340</td>\n",
       "      <td>95</td>\n",
       "      <td>40.0</td>\n",
       "    </tr>\n",
       "    <tr>\n",
       "      <th>3</th>\n",
       "      <td>Washington</td>\n",
       "      <td>45.20</td>\n",
       "      <td>20</td>\n",
       "      <td>66</td>\n",
       "      <td>13670</td>\n",
       "      <td>3471</td>\n",
       "      <td>2314</td>\n",
       "      <td>257</td>\n",
       "      <td>64</td>\n",
       "      <td>51.0</td>\n",
       "    </tr>\n",
       "    <tr>\n",
       "      <th>4</th>\n",
       "      <td>Colorado</td>\n",
       "      <td>44.20</td>\n",
       "      <td>12</td>\n",
       "      <td>35</td>\n",
       "      <td>11660</td>\n",
       "      <td>0</td>\n",
       "      <td>0</td>\n",
       "      <td>221</td>\n",
       "      <td>64</td>\n",
       "      <td>32.0</td>\n",
       "    </tr>\n",
       "    <tr>\n",
       "      <th>5</th>\n",
       "      <td>Kansas</td>\n",
       "      <td>32.52</td>\n",
       "      <td>13</td>\n",
       "      <td>18</td>\n",
       "      <td>3470</td>\n",
       "      <td>0</td>\n",
       "      <td>0</td>\n",
       "      <td>128</td>\n",
       "      <td>63</td>\n",
       "      <td>4.0</td>\n",
       "    </tr>\n",
       "    <tr>\n",
       "      <th>6</th>\n",
       "      <td>New York</td>\n",
       "      <td>52.20</td>\n",
       "      <td>23</td>\n",
       "      <td>37</td>\n",
       "      <td>43820</td>\n",
       "      <td>4279</td>\n",
       "      <td>3129</td>\n",
       "      <td>557</td>\n",
       "      <td>175</td>\n",
       "      <td>252.0</td>\n",
       "    </tr>\n",
       "    <tr>\n",
       "      <th>7</th>\n",
       "      <td>Texas</td>\n",
       "      <td>60.90</td>\n",
       "      <td>8</td>\n",
       "      <td>21</td>\n",
       "      <td>41890</td>\n",
       "      <td>1</td>\n",
       "      <td>1</td>\n",
       "      <td>453</td>\n",
       "      <td>96</td>\n",
       "      <td>35.0</td>\n",
       "    </tr>\n",
       "    <tr>\n",
       "      <th>8</th>\n",
       "      <td>Pennsylvania</td>\n",
       "      <td>38.50</td>\n",
       "      <td>24</td>\n",
       "      <td>32</td>\n",
       "      <td>23580</td>\n",
       "      <td>1</td>\n",
       "      <td>1</td>\n",
       "      <td>309</td>\n",
       "      <td>169</td>\n",
       "      <td>43.0</td>\n",
       "    </tr>\n",
       "    <tr>\n",
       "      <th>9</th>\n",
       "      <td>Massachusetts</td>\n",
       "      <td>35.30</td>\n",
       "      <td>16</td>\n",
       "      <td>25</td>\n",
       "      <td>9170</td>\n",
       "      <td>488</td>\n",
       "      <td>298</td>\n",
       "      <td>229</td>\n",
       "      <td>90</td>\n",
       "      <td>47.0</td>\n",
       "    </tr>\n",
       "  </tbody>\n",
       "</table>\n",
       "</div>"
      ],
      "text/plain": [
       "           State  Publicly Funded Births (%)  Title X Center Need Met  \\\n",
       "0     California                       49.70                       36   \n",
       "1        Georgia                       61.60                       12   \n",
       "2       Illinois                       55.50                       13   \n",
       "3     Washington                       45.20                       20   \n",
       "4       Colorado                       44.20                       12   \n",
       "5         Kansas                       32.52                       13   \n",
       "6       New York                       52.20                       23   \n",
       "7          Texas                       60.90                        8   \n",
       "8   Pennsylvania                       38.50                       24   \n",
       "9  Massachusetts                       35.30                       16   \n",
       "\n",
       "   Publicly Funded Centers Need Met  \\\n",
       "0                                64   \n",
       "1                                26   \n",
       "2                                24   \n",
       "3                                66   \n",
       "4                                35   \n",
       "5                                18   \n",
       "6                                37   \n",
       "7                                21   \n",
       "8                                32   \n",
       "9                                25   \n",
       "\n",
       "   Births Averted by Publicly Funded Centers  \\\n",
       "0                                     163380   \n",
       "1                                      19680   \n",
       "2                                      19210   \n",
       "3                                      13670   \n",
       "4                                      11660   \n",
       "5                                       3470   \n",
       "6                                      43820   \n",
       "7                                      41890   \n",
       "8                                      23580   \n",
       "9                                       9170   \n",
       "\n",
       "   Abortion Costs Saved at Publicly Funded Family Planning Centers  \\\n",
       "0                                              17463                 \n",
       "1                                                  5                 \n",
       "2                                                 74                 \n",
       "3                                               3471                 \n",
       "4                                                  0                 \n",
       "5                                                  0                 \n",
       "6                                               4279                 \n",
       "7                                                  1                 \n",
       "8                                                  1                 \n",
       "9                                                488                 \n",
       "\n",
       "   Abortion Costs Saved at Title X Funded Centers  \\\n",
       "0                                           12566   \n",
       "1                                               3   \n",
       "2                                              41   \n",
       "3                                            2314   \n",
       "4                                               0   \n",
       "5                                               0   \n",
       "6                                            3129   \n",
       "7                                               1   \n",
       "8                                               1   \n",
       "9                                             298   \n",
       "\n",
       "   No. of publicly funded centers  No. of Title-X centers  \\\n",
       "0                            1697                     353   \n",
       "1                             383                     125   \n",
       "2                             340                      95   \n",
       "3                             257                      64   \n",
       "4                             221                      64   \n",
       "5                             128                      63   \n",
       "6                             557                     175   \n",
       "7                             453                      96   \n",
       "8                             309                     169   \n",
       "9                             229                      90   \n",
       "\n",
       "   No. of abortion providers  \n",
       "0                      419.0  \n",
       "1                       26.0  \n",
       "2                       40.0  \n",
       "3                       51.0  \n",
       "4                       32.0  \n",
       "5                        4.0  \n",
       "6                      252.0  \n",
       "7                       35.0  \n",
       "8                       43.0  \n",
       "9                       47.0  "
      ]
     },
     "execution_count": 169,
     "metadata": {},
     "output_type": "execute_result"
    }
   ],
   "source": [
    "cost_data.head(n=10)"
   ]
  },
  {
   "cell_type": "code",
   "execution_count": 179,
   "id": "30bf6624-16eb-4f07-b2f9-7818aa5c8277",
   "metadata": {
    "tags": []
   },
   "outputs": [
    {
     "data": {
      "text/html": [
       "<div>\n",
       "<style scoped>\n",
       "    .dataframe tbody tr th:only-of-type {\n",
       "        vertical-align: middle;\n",
       "    }\n",
       "\n",
       "    .dataframe tbody tr th {\n",
       "        vertical-align: top;\n",
       "    }\n",
       "\n",
       "    .dataframe thead th {\n",
       "        text-align: right;\n",
       "    }\n",
       "</style>\n",
       "<table border=\"1\" class=\"dataframe\">\n",
       "  <thead>\n",
       "    <tr style=\"text-align: right;\">\n",
       "      <th></th>\n",
       "      <th>State</th>\n",
       "      <th>Publicly Funded Births (%)</th>\n",
       "      <th>Title X Center Need Met</th>\n",
       "      <th>Publicly Funded Centers Need Met</th>\n",
       "      <th>Births Averted by Publicly Funded Centers</th>\n",
       "      <th>Abortion Costs Saved at Publicly Funded Family Planning Centers</th>\n",
       "      <th>Abortion Costs Saved at Title X Funded Centers</th>\n",
       "      <th>No. of publicly funded centers</th>\n",
       "      <th>No. of Title-X centers</th>\n",
       "      <th>No. of abortion providers</th>\n",
       "    </tr>\n",
       "  </thead>\n",
       "  <tbody>\n",
       "    <tr>\n",
       "      <th>0</th>\n",
       "      <td>California</td>\n",
       "      <td>49.7</td>\n",
       "      <td>36</td>\n",
       "      <td>64</td>\n",
       "      <td>163380</td>\n",
       "      <td>17463</td>\n",
       "      <td>12566</td>\n",
       "      <td>1697</td>\n",
       "      <td>353</td>\n",
       "      <td>419.0</td>\n",
       "    </tr>\n",
       "    <tr>\n",
       "      <th>1</th>\n",
       "      <td>Georgia</td>\n",
       "      <td>61.6</td>\n",
       "      <td>12</td>\n",
       "      <td>26</td>\n",
       "      <td>19680</td>\n",
       "      <td>5</td>\n",
       "      <td>3</td>\n",
       "      <td>383</td>\n",
       "      <td>125</td>\n",
       "      <td>26.0</td>\n",
       "    </tr>\n",
       "    <tr>\n",
       "      <th>2</th>\n",
       "      <td>Illinois</td>\n",
       "      <td>55.5</td>\n",
       "      <td>13</td>\n",
       "      <td>24</td>\n",
       "      <td>19210</td>\n",
       "      <td>74</td>\n",
       "      <td>41</td>\n",
       "      <td>340</td>\n",
       "      <td>95</td>\n",
       "      <td>40.0</td>\n",
       "    </tr>\n",
       "    <tr>\n",
       "      <th>3</th>\n",
       "      <td>Washington</td>\n",
       "      <td>45.2</td>\n",
       "      <td>20</td>\n",
       "      <td>66</td>\n",
       "      <td>13670</td>\n",
       "      <td>3471</td>\n",
       "      <td>2314</td>\n",
       "      <td>257</td>\n",
       "      <td>64</td>\n",
       "      <td>51.0</td>\n",
       "    </tr>\n",
       "    <tr>\n",
       "      <th>4</th>\n",
       "      <td>Colorado</td>\n",
       "      <td>44.2</td>\n",
       "      <td>12</td>\n",
       "      <td>35</td>\n",
       "      <td>11660</td>\n",
       "      <td>0</td>\n",
       "      <td>0</td>\n",
       "      <td>221</td>\n",
       "      <td>64</td>\n",
       "      <td>32.0</td>\n",
       "    </tr>\n",
       "  </tbody>\n",
       "</table>\n",
       "</div>"
      ],
      "text/plain": [
       "        State  Publicly Funded Births (%)  Title X Center Need Met  \\\n",
       "0  California                        49.7                       36   \n",
       "1     Georgia                        61.6                       12   \n",
       "2    Illinois                        55.5                       13   \n",
       "3  Washington                        45.2                       20   \n",
       "4    Colorado                        44.2                       12   \n",
       "\n",
       "   Publicly Funded Centers Need Met  \\\n",
       "0                                64   \n",
       "1                                26   \n",
       "2                                24   \n",
       "3                                66   \n",
       "4                                35   \n",
       "\n",
       "   Births Averted by Publicly Funded Centers  \\\n",
       "0                                     163380   \n",
       "1                                      19680   \n",
       "2                                      19210   \n",
       "3                                      13670   \n",
       "4                                      11660   \n",
       "\n",
       "   Abortion Costs Saved at Publicly Funded Family Planning Centers  \\\n",
       "0                                              17463                 \n",
       "1                                                  5                 \n",
       "2                                                 74                 \n",
       "3                                               3471                 \n",
       "4                                                  0                 \n",
       "\n",
       "   Abortion Costs Saved at Title X Funded Centers  \\\n",
       "0                                           12566   \n",
       "1                                               3   \n",
       "2                                              41   \n",
       "3                                            2314   \n",
       "4                                               0   \n",
       "\n",
       "   No. of publicly funded centers  No. of Title-X centers  \\\n",
       "0                            1697                     353   \n",
       "1                             383                     125   \n",
       "2                             340                      95   \n",
       "3                             257                      64   \n",
       "4                             221                      64   \n",
       "\n",
       "   No. of abortion providers  \n",
       "0                      419.0  \n",
       "1                       26.0  \n",
       "2                       40.0  \n",
       "3                       51.0  \n",
       "4                       32.0  "
      ]
     },
     "execution_count": 179,
     "metadata": {},
     "output_type": "execute_result"
    }
   ],
   "source": [
    "cost_data.head()"
   ]
  },
  {
   "cell_type": "code",
   "execution_count": 183,
   "id": "e972f2f4-7450-4e52-a5db-35595c43b7e3",
   "metadata": {
    "tags": []
   },
   "outputs": [
    {
     "name": "stdout",
     "output_type": "stream",
     "text": [
      "41.5\n"
     ]
    }
   ],
   "source": [
    "# baseline abortion provider (across all states - not the best but just get something working)\n",
    "\n",
    "#baseline = cost_data['No. of abortion providers'].mean()\n",
    "baseline = cost_data['No. of abortion providers'].median()\n",
    "\n",
    "print(baseline)\n",
    "\n",
    "\n",
    "#Because California skewed the mean, I am using median.\n",
    "\n",
    "#On average, tech hub cities have around 40 abortion providers. "
   ]
  },
  {
   "cell_type": "code",
   "execution_count": 189,
   "id": "e44c6684-aef5-4e4b-86bd-58fa842759c0",
   "metadata": {},
   "outputs": [
    {
     "name": "stdout",
     "output_type": "stream",
     "text": [
      "Standard deviation based on the median after removing outliers: 15.427248620541512\n"
     ]
    }
   ],
   "source": [
    "# For the sake of standard deviation calculation:\n",
    "\n",
    "copy = cost_data.copy()\n",
    "data = copy['No. of abortion providers']\n",
    "\n",
    "\n",
    "\n",
    "outliers = [419, 252]\n",
    "copy = [x for x in data if x not in outliers]\n",
    "\n",
    "# Calculate the absolute deviations from the median\n",
    "absolute_deviations = [abs(x - baseline) for x in copy]\n",
    "variance = np.mean(np.square(absolute_deviations))\n",
    "std_based_on_median = np.sqrt(variance)\n",
    "print(\"Standard deviation based on the median after removing outliers:\", std_based_on_median)\n",
    "\n",
    "#On average, tech hubs differ by 15 in terms of abortion providers\n",
    "#High access to providers: 56+\n",
    "#Low access to providers: 0-26\n",
    "#Avg access to providers: 41-56\n",
    "\n"
   ]
  },
  {
   "cell_type": "code",
   "execution_count": 191,
   "id": "cb471a3e-954a-4e23-b0fd-67e6f2c3d54b",
   "metadata": {
    "tags": []
   },
   "outputs": [
    {
     "data": {
      "text/plain": [
       "Index(['State', 'Publicly Funded Births (%)', 'Title X Center Need Met',\n",
       "       'Publicly Funded Centers Need Met',\n",
       "       'Births Averted by Publicly Funded Centers',\n",
       "       'Abortion Costs Saved at Publicly Funded Family Planning Centers',\n",
       "       'Abortion Costs Saved at Title X Funded Centers',\n",
       "       'No. of publicly funded centers', 'No. of Title-X centers',\n",
       "       'No. of abortion providers'],\n",
       "      dtype='object')"
      ]
     },
     "execution_count": 191,
     "metadata": {},
     "output_type": "execute_result"
    }
   ],
   "source": [
    "cost_data.columns"
   ]
  },
  {
   "cell_type": "markdown",
   "id": "891e737a-954f-48fc-8e12-12d451f76037",
   "metadata": {},
   "source": [
    "## Cost Visualization ##"
   ]
  },
  {
   "cell_type": "code",
   "execution_count": 192,
   "id": "2c6a9db9-1ba4-43af-a719-00ae4d2ddeed",
   "metadata": {
    "tags": []
   },
   "outputs": [],
   "source": [
    "input_state = 'Kansas'\n",
    "\n",
    "def provider_by_state(input_state):\n",
    "    # Check if the input_state is in the DataFrame\n",
    "    if input_state in cost_data['State'].values:\n",
    "        \n",
    "        # Get the row from the DataFrame for the matching state\n",
    "        state_row = cost_data[cost_data['State'] == input_state]\n",
    "        # Extract the accessibility score for this state\n",
    "        return state_row['No. of abortion providers'].iloc[0]\n",
    "    else:\n",
    "        return None\n",
    "\n",
    "# Get the provider count for the input state\n",
    "count = provider_by_state(input_state)\n",
    "\n",
    "#High access to providers: 56+\n",
    "#Low access to providers: 0-26\n",
    "#Avg access to providers: 41-56\n",
    "\n",
    "def categorize_access(count):\n",
    "    avg_access = (41, 56)\n",
    "    low_access = (0, 26)\n",
    "    high_access = (56, max(cost_data['No. of abortion providers']))\n",
    "    \n",
    "    if high_access[0] <= count <= high_access_[1]:\n",
    "        return 'High'\n",
    "    elif avg_access[0] <= count <= avg_access[1]:\n",
    "        return 'Average'\n",
    "    elif low_access[0] <= count <= low_access[1]:\n",
    "        return 'Low'\n",
    "    else:\n",
    "        return 'Undefined'\n",
    "\n",
    "access_level = categorize_access(count)\n",
    "print(f\"This state has a {access_level} number of providers: {count}\")\n",
    "    \n",
    "    print(high_access)"
   ]
  },
  {
   "cell_type": "code",
   "execution_count": 203,
   "id": "2c3e38f0-7575-4d3d-9822-d18012dccdbe",
   "metadata": {
    "tags": []
   },
   "outputs": [
    {
     "data": {
      "text/plain": [
       "Index(['State', 'Publicly Funded Births (%)', 'Title X Center Need Met',\n",
       "       'Publicly Funded Centers Need Met',\n",
       "       'Births Averted by Publicly Funded Centers',\n",
       "       'Abortion Costs Saved at Publicly Funded Family Planning Centers',\n",
       "       'Abortion Costs Saved at Title X Funded Centers',\n",
       "       'No. of publicly funded centers', 'No. of Title-X centers',\n",
       "       'No. of abortion providers'],\n",
       "      dtype='object')"
      ]
     },
     "execution_count": 203,
     "metadata": {},
     "output_type": "execute_result"
    }
   ],
   "source": [
    "cost_data.columns"
   ]
  },
  {
   "cell_type": "code",
   "execution_count": 205,
   "id": "d3d652be-6c55-48df-bd3c-959b493fae83",
   "metadata": {
    "tags": []
   },
   "outputs": [],
   "source": [
    "title_x = cost_data[['State', 'Abortion Costs Saved at Title X Funded Centers']]\n",
    "public = cost_data[['State', 'Abortion Costs Saved at Publicly Funded Family Planning Centers']]\n"
   ]
  },
  {
   "cell_type": "code",
   "execution_count": 289,
   "id": "0786c2e3-ff61-4c07-ba37-b636af676b22",
   "metadata": {
    "tags": []
   },
   "outputs": [
    {
     "name": "stdout",
     "output_type": "stream",
     "text": [
      "This state has a Avg number of providers: 47.0\n"
     ]
    },
    {
     "data": {
      "image/png": "[encoded data removed]",
      "text/plain": [
       "<Figure size 800x600 with 1 Axes>"
      ]
     },
     "metadata": {},
     "output_type": "display_data"
    }
   ],
   "source": [
    "import matplotlib.pyplot as plt\n",
    "import numpy as np\n",
    "\n",
    "def provider_by_state(input_state):\n",
    "    # Assuming cost_data is your DataFrame containing the state-wise data\n",
    "    if input_state in cost_data['State'].values:\n",
    "        state_row = cost_data[cost_data['State'] == input_state]\n",
    "        return state_row['No. of abortion providers'].iloc[0]\n",
    "    else:\n",
    "        return None\n",
    "\n",
    "def categorize_access(count):\n",
    "    avg_access = (41, 56)\n",
    "    low_access = (0, 40)\n",
    "    high_access = (56, max(cost_data['No. of abortion providers']))\n",
    "    \n",
    "    if high_access[0] <= count <= high_access[1]:\n",
    "        return 'High'\n",
    "    elif avg_access[0] <= count <= avg_access[1]:\n",
    "        return 'Avg'\n",
    "    elif low_access[0] <= count <= low_access[1]:\n",
    "        return 'Low'\n",
    "    else:\n",
    "        return 'Undefined'\n",
    "    \n",
    "def generate_chart(input_state):\n",
    "    count = provider_by_state(input_state)\n",
    "    if count is not None:\n",
    "        access_level = categorize_access(count)\n",
    "        print(f\"This state has a {access_level} number of providers: {count}\")\n",
    "        \n",
    "        # Filter the data for the given state\n",
    "        state_data = cost_data[cost_data['State'] == input_state]\n",
    "        title_x = state_data['Abortion Costs Saved at Title X Funded Centers'].iloc[0]\n",
    "        public = state_data['Abortion Costs Saved at Publicly Funded Family Planning Centers'].iloc[0]\n",
    "        \n",
    "        # Check if costs saved in either Title X or public are less than $5\n",
    "        if title_x < 5 and public < 5:\n",
    "            print(f\"Due to limited abortion options, the abortion costs via Title X are {title_x}.\")\n",
    "            print(f\"Due to limited abortion options, the abortion costs via public centers are {public}.\")\n",
    "            \n",
    "            \n",
    "        elif title_x < 5 or public < 5:\n",
    "            print(f\"Due to limited abortion options, the abortion costs ($) via Title X are {title_x}\")\n",
    "            print(f\"Due to limited abortion options, the abortion costs ($) via public centers are {public}\")\n",
    "            \n",
    "        else:\n",
    "            if access_level == \"Low\":\n",
    "                plt.figure(figsize=(8, 6))\n",
    "                bar_width = 0.35\n",
    "                plt.bar(0, title_x, color='skyblue', width=bar_width, edgecolor='grey', label='Title X Funded Centers')\n",
    "                plt.bar(1, public, color='salmon', width=bar_width, edgecolor='grey', label='Publicly Funded Centers')\n",
    "\n",
    "            # Add title and axis labels\n",
    "                plt.xlabel('Funding Source', fontsize=12, fontweight='bold')\n",
    "                plt.ylabel('Cost ($)', fontsize=12, fontweight='bold')\n",
    "                plt.title(f\"Average Abortion Costs Saved in {input_state}\", fontsize=14, fontweight='bold')\n",
    "\n",
    "    # Customize ticks and legend\n",
    "                plt.xticks([0, 1], ['Title X', 'Public'], fontsize=10)\n",
    "                plt.yticks(fontsize=10)\n",
    "                plt.legend(fontsize=10)\n",
    "\n",
    "    # Display the chart\n",
    "                plt.tight_layout()\n",
    "                plt.show()\n",
    "            elif access_level == \"Avg\":\n",
    "                plt.figure(figsize=(8, 6))\n",
    "                bar_width = 0.35\n",
    "                plt.bar(0, title_x, color='skyblue', width=bar_width, edgecolor='grey', label='Title X Funded Centers')\n",
    "                plt.bar(1, public, color='salmon', width=bar_width, edgecolor='grey', label='Publicly Funded Centers')\n",
    "\n",
    "    # Add title and axis labels\n",
    "                plt.xlabel('Funding Source', fontsize=12, fontweight='bold')\n",
    "                plt.ylabel('Cost ($)', fontsize=12, fontweight='bold')\n",
    "                plt.title(f\"Average Abortion Costs Saved in {input_state}\", fontsize=14, fontweight='bold')\n",
    "\n",
    "    # Customize ticks and legend\n",
    "                plt.xticks([0, 1], ['Title X', 'Public'], fontsize=10)\n",
    "                plt.yticks(fontsize=10)\n",
    "                plt.legend(fontsize=10)\n",
    "\n",
    "    # Display the chart\n",
    "                plt.tight_layout()\n",
    "                plt.show()\n",
    "            else:\n",
    "                plt.figure(figsize=(8, 6))\n",
    "                bar_width = 0.35\n",
    "                plt.bar(0, title_x, color='skyblue', width=bar_width, edgecolor='grey', label='Title X Funded Centers')\n",
    "                plt.bar(1, public, color='salmon', width=bar_width, edgecolor='grey', label='Publicly Funded Centers')\n",
    "\n",
    "    # Add title and axis labels\n",
    "                plt.xlabel('Funding Source', fontsize=12, fontweight='bold')\n",
    "                plt.ylabel('Cost ($)', fontsize=12, fontweight='bold')\n",
    "                plt.title(f\"Average Abortion Costs Saved in {input_state}\", fontsize=14, fontweight='bold')\n",
    "\n",
    "    # Customize ticks and legend\n",
    "                plt.xticks([0, 1], ['Title X', 'Public'], fontsize=10)\n",
    "                plt.yticks(fontsize=10)\n",
    "                plt.legend(fontsize=10)\n",
    "\n",
    "    # Display the chart\n",
    "                plt.tight_layout()\n",
    "                plt.show()\n",
    "                \n",
    "\n",
    "\n",
    "# Example usage:\n",
    "input_state = 'Massachusetts'  # Replace with the actual state name\n",
    "generate_chart(input_state)\n",
    "\n",
    "#title x = 12,566\n",
    "#public = 17, 463"
   ]
  },
  {
   "cell_type": "code",
   "execution_count": 246,
   "id": "7aa907bd-298d-470a-9223-e9574af18543",
   "metadata": {
    "tags": []
   },
   "outputs": [
    {
     "data": {
      "text/html": [
       "<div>\n",
       "<style scoped>\n",
       "    .dataframe tbody tr th:only-of-type {\n",
       "        vertical-align: middle;\n",
       "    }\n",
       "\n",
       "    .dataframe tbody tr th {\n",
       "        vertical-align: top;\n",
       "    }\n",
       "\n",
       "    .dataframe thead th {\n",
       "        text-align: right;\n",
       "    }\n",
       "</style>\n",
       "<table border=\"1\" class=\"dataframe\">\n",
       "  <thead>\n",
       "    <tr style=\"text-align: right;\">\n",
       "      <th></th>\n",
       "      <th>State</th>\n",
       "      <th>Publicly Funded Births (%)</th>\n",
       "      <th>Title X Center Need Met</th>\n",
       "      <th>Publicly Funded Centers Need Met</th>\n",
       "      <th>Births Averted by Publicly Funded Centers</th>\n",
       "      <th>Abortion Costs Saved at Publicly Funded Family Planning Centers</th>\n",
       "      <th>Abortion Costs Saved at Title X Funded Centers</th>\n",
       "      <th>No. of publicly funded centers</th>\n",
       "      <th>No. of Title-X centers</th>\n",
       "      <th>No. of abortion providers</th>\n",
       "    </tr>\n",
       "  </thead>\n",
       "  <tbody>\n",
       "    <tr>\n",
       "      <th>0</th>\n",
       "      <td>California</td>\n",
       "      <td>49.70</td>\n",
       "      <td>36</td>\n",
       "      <td>64</td>\n",
       "      <td>163380</td>\n",
       "      <td>17463</td>\n",
       "      <td>12566</td>\n",
       "      <td>1697</td>\n",
       "      <td>353</td>\n",
       "      <td>419.0</td>\n",
       "    </tr>\n",
       "    <tr>\n",
       "      <th>1</th>\n",
       "      <td>Georgia</td>\n",
       "      <td>61.60</td>\n",
       "      <td>12</td>\n",
       "      <td>26</td>\n",
       "      <td>19680</td>\n",
       "      <td>5</td>\n",
       "      <td>3</td>\n",
       "      <td>383</td>\n",
       "      <td>125</td>\n",
       "      <td>26.0</td>\n",
       "    </tr>\n",
       "    <tr>\n",
       "      <th>2</th>\n",
       "      <td>Illinois</td>\n",
       "      <td>55.50</td>\n",
       "      <td>13</td>\n",
       "      <td>24</td>\n",
       "      <td>19210</td>\n",
       "      <td>74</td>\n",
       "      <td>41</td>\n",
       "      <td>340</td>\n",
       "      <td>95</td>\n",
       "      <td>40.0</td>\n",
       "    </tr>\n",
       "    <tr>\n",
       "      <th>3</th>\n",
       "      <td>Washington</td>\n",
       "      <td>45.20</td>\n",
       "      <td>20</td>\n",
       "      <td>66</td>\n",
       "      <td>13670</td>\n",
       "      <td>3471</td>\n",
       "      <td>2314</td>\n",
       "      <td>257</td>\n",
       "      <td>64</td>\n",
       "      <td>51.0</td>\n",
       "    </tr>\n",
       "    <tr>\n",
       "      <th>4</th>\n",
       "      <td>Colorado</td>\n",
       "      <td>44.20</td>\n",
       "      <td>12</td>\n",
       "      <td>35</td>\n",
       "      <td>11660</td>\n",
       "      <td>0</td>\n",
       "      <td>0</td>\n",
       "      <td>221</td>\n",
       "      <td>64</td>\n",
       "      <td>32.0</td>\n",
       "    </tr>\n",
       "    <tr>\n",
       "      <th>5</th>\n",
       "      <td>Kansas</td>\n",
       "      <td>32.52</td>\n",
       "      <td>13</td>\n",
       "      <td>18</td>\n",
       "      <td>3470</td>\n",
       "      <td>0</td>\n",
       "      <td>0</td>\n",
       "      <td>128</td>\n",
       "      <td>63</td>\n",
       "      <td>4.0</td>\n",
       "    </tr>\n",
       "    <tr>\n",
       "      <th>6</th>\n",
       "      <td>New York</td>\n",
       "      <td>52.20</td>\n",
       "      <td>23</td>\n",
       "      <td>37</td>\n",
       "      <td>43820</td>\n",
       "      <td>4279</td>\n",
       "      <td>3129</td>\n",
       "      <td>557</td>\n",
       "      <td>175</td>\n",
       "      <td>252.0</td>\n",
       "    </tr>\n",
       "    <tr>\n",
       "      <th>7</th>\n",
       "      <td>Texas</td>\n",
       "      <td>60.90</td>\n",
       "      <td>8</td>\n",
       "      <td>21</td>\n",
       "      <td>41890</td>\n",
       "      <td>1</td>\n",
       "      <td>1</td>\n",
       "      <td>453</td>\n",
       "      <td>96</td>\n",
       "      <td>35.0</td>\n",
       "    </tr>\n",
       "    <tr>\n",
       "      <th>8</th>\n",
       "      <td>Pennsylvania</td>\n",
       "      <td>38.50</td>\n",
       "      <td>24</td>\n",
       "      <td>32</td>\n",
       "      <td>23580</td>\n",
       "      <td>1</td>\n",
       "      <td>1</td>\n",
       "      <td>309</td>\n",
       "      <td>169</td>\n",
       "      <td>43.0</td>\n",
       "    </tr>\n",
       "    <tr>\n",
       "      <th>9</th>\n",
       "      <td>Massachusetts</td>\n",
       "      <td>35.30</td>\n",
       "      <td>16</td>\n",
       "      <td>25</td>\n",
       "      <td>9170</td>\n",
       "      <td>488</td>\n",
       "      <td>298</td>\n",
       "      <td>229</td>\n",
       "      <td>90</td>\n",
       "      <td>47.0</td>\n",
       "    </tr>\n",
       "  </tbody>\n",
       "</table>\n",
       "</div>"
      ],
      "text/plain": [
       "           State  Publicly Funded Births (%)  Title X Center Need Met  \\\n",
       "0     California                       49.70                       36   \n",
       "1        Georgia                       61.60                       12   \n",
       "2       Illinois                       55.50                       13   \n",
       "3     Washington                       45.20                       20   \n",
       "4       Colorado                       44.20                       12   \n",
       "5         Kansas                       32.52                       13   \n",
       "6       New York                       52.20                       23   \n",
       "7          Texas                       60.90                        8   \n",
       "8   Pennsylvania                       38.50                       24   \n",
       "9  Massachusetts                       35.30                       16   \n",
       "\n",
       "   Publicly Funded Centers Need Met  \\\n",
       "0                                64   \n",
       "1                                26   \n",
       "2                                24   \n",
       "3                                66   \n",
       "4                                35   \n",
       "5                                18   \n",
       "6                                37   \n",
       "7                                21   \n",
       "8                                32   \n",
       "9                                25   \n",
       "\n",
       "   Births Averted by Publicly Funded Centers  \\\n",
       "0                                     163380   \n",
       "1                                      19680   \n",
       "2                                      19210   \n",
       "3                                      13670   \n",
       "4                                      11660   \n",
       "5                                       3470   \n",
       "6                                      43820   \n",
       "7                                      41890   \n",
       "8                                      23580   \n",
       "9                                       9170   \n",
       "\n",
       "   Abortion Costs Saved at Publicly Funded Family Planning Centers  \\\n",
       "0                                              17463                 \n",
       "1                                                  5                 \n",
       "2                                                 74                 \n",
       "3                                               3471                 \n",
       "4                                                  0                 \n",
       "5                                                  0                 \n",
       "6                                               4279                 \n",
       "7                                                  1                 \n",
       "8                                                  1                 \n",
       "9                                                488                 \n",
       "\n",
       "   Abortion Costs Saved at Title X Funded Centers  \\\n",
       "0                                           12566   \n",
       "1                                               3   \n",
       "2                                              41   \n",
       "3                                            2314   \n",
       "4                                               0   \n",
       "5                                               0   \n",
       "6                                            3129   \n",
       "7                                               1   \n",
       "8                                               1   \n",
       "9                                             298   \n",
       "\n",
       "   No. of publicly funded centers  No. of Title-X centers  \\\n",
       "0                            1697                     353   \n",
       "1                             383                     125   \n",
       "2                             340                      95   \n",
       "3                             257                      64   \n",
       "4                             221                      64   \n",
       "5                             128                      63   \n",
       "6                             557                     175   \n",
       "7                             453                      96   \n",
       "8                             309                     169   \n",
       "9                             229                      90   \n",
       "\n",
       "   No. of abortion providers  \n",
       "0                      419.0  \n",
       "1                       26.0  \n",
       "2                       40.0  \n",
       "3                       51.0  \n",
       "4                       32.0  \n",
       "5                        4.0  \n",
       "6                      252.0  \n",
       "7                       35.0  \n",
       "8                       43.0  \n",
       "9                       47.0  "
      ]
     },
     "execution_count": 246,
     "metadata": {},
     "output_type": "execute_result"
    }
   ],
   "source": [
    "cost_data.head(n=10)"
   ]
  },
  {
   "cell_type": "code",
   "execution_count": 267,
   "id": "0ddb09ce-8601-4bd1-8c01-fdbbea15b60c",
   "metadata": {
    "tags": []
   },
   "outputs": [
    {
     "name": "stdout",
     "output_type": "stream",
     "text": [
      "           State (%) Counties without Abortion Provider  \\\n",
      "0     California                                     24   \n",
      "1        Georgia                                     94   \n",
      "2       Illinois                                     91   \n",
      "3     Washington                                     94   \n",
      "4       Colorado                                     77   \n",
      "5         Kansas                                     97   \n",
      "6       New York                                     37   \n",
      "7          Texas                                     95   \n",
      "8   Pennsylvania                                     81   \n",
      "9  Massachusetts                                     21   \n",
      "\n",
      "  (%) Counties without Clinic No of Abortion Clinics  County Count Per State  \n",
      "0                          38                    173                    58.0  \n",
      "1                          95                     14                   159.0  \n",
      "2                          89                     30                   102.0  \n",
      "3                          56                     37                    39.0  \n",
      "4                          77                     23                    64.0  \n",
      "5                          98                      4                   105.0  \n",
      "6                          37                    104                    62.0  \n",
      "7                          96                     24                   254.0  \n",
      "8                          82                     17                    67.0  \n",
      "9                          50                     17                    14.0  \n"
     ]
    }
   ],
   "source": [
    "\n",
    "cost = pd.DataFrame(cost_data)\n",
    "access_data = pd.DataFrame(access)\n",
    "access_data = access_data.drop([10,11,12])\n",
    "print(access_data)\n"
   ]
  },
  {
   "cell_type": "code",
   "execution_count": null,
   "id": "b225a1e5-1089-4dc3-8780-1cc78694c6a1",
   "metadata": {},
   "outputs": [],
   "source": []
  },
  {
   "cell_type": "code",
   "execution_count": 259,
   "id": "8687fbf7-81fe-490f-9db6-20d2cd1cd445",
   "metadata": {
    "tags": []
   },
   "outputs": [],
   "source": [
    "\n",
    "# Export DataFrame to CSV file\n",
    "cost.to_csv('cost.csv', index=False)  # Set index=False to exclude index from the CSV file\n",
    "\n"
   ]
  },
  {
   "cell_type": "code",
   "execution_count": 268,
   "id": "a6bd4e15-5344-4d0a-b40e-657f855c4826",
   "metadata": {
    "tags": []
   },
   "outputs": [],
   "source": [
    "# Export DataFrame to CSV file\n",
    "access_data.to_csv('access.csv', index=False)  # Set index=False to exclude index from the CSV file\n"
   ]
  },
  {
   "cell_type": "code",
   "execution_count": 269,
   "id": "c4712ce5-9068-4e6b-a074-c7a138916b02",
   "metadata": {
    "tags": []
   },
   "outputs": [
    {
     "data": {
      "text/plain": [
       "State                                      object\n",
       "(%) Counties without Abortion Provider      int64\n",
       "(%) Counties without Clinic                 int64\n",
       "No of Abortion Clinics                      int64\n",
       "County Count Per State                    float64\n",
       "dtype: object"
      ]
     },
     "execution_count": 269,
     "metadata": {},
     "output_type": "execute_result"
    }
   ],
   "source": [
    "access = pd.read_csv('access.csv')\n",
    "access.dtypes"
   ]
  },
  {
   "cell_type": "code",
   "execution_count": null,
   "id": "fc5fa504-7d8e-4f2f-874e-74f352e4788c",
   "metadata": {},
   "outputs": [],
   "source": []
  }
 ],
 "metadata": {
  "kernelspec": {
   "display_name": "Python 3.11.8 ('base')",
   "language": "python",
   "name": "python3"
  },
  "language_info": {
   "codemirror_mode": {
    "name": "ipython",
    "version": 3
   },
   "file_extension": ".py",
   "mimetype": "text/x-python",
   "name": "python",
   "nbconvert_exporter": "python",
   "pygments_lexer": "ipython3",
   "version": "3.11.8"
  },
  "vscode": {
   "interpreter": {
    "hash": "fd5db244d7c53028f652e5d93be0739c62b323b9d6e767ec91f36305338bbbc6"
   }
  }
 },
 "nbformat": 4,
 "nbformat_minor": 5
}
